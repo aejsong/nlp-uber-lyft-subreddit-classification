{
 "cells": [
  {
   "cell_type": "markdown",
   "metadata": {},
   "source": [
    "## Contents\n",
    "- [Imports](#Imports)\n",
    "- [Merging Uber & Lyft Datasets](#Merging-Uber-&-Lyft-Datasets)\n",
    "- [Cleaning Up Dataset](#Cleaning-Up-Dataset)\n",
    "- [Preprocessing](#Preprocessor-to-All-Text)\n",
    "- [Stopwords](#Stopwords)\n",
    "- [Pipelines & Gridsearches](#Pipelines-&-Gridsearches)\n",
    "    - [Unprocessed \"all_text\"](#Unprocessed-\"all_text\")\n",
    "    - [Lemmatized \"all_text\"](#Lemmatized-\"all_text\")\n",
    "    - [Porter Stemmed \"all_text\"](#Porter-Stemmed-\"all_text\")\n",
    "    - [TokTok Tokenized \"all_text\"](#TokTok-Tokenized-\"all_text\")\n",
    "    - [Snowball Stemmed \"all_text\"](#Snowball-Stemmed-\"all_text\")\n",
    "- [ROC/AUC Curve for Best Model](#ROC/AUC-Curve)\n",
    "- [Sentiment Analysis](#Sentiment-Analysis)\n",
    "- [Inference](#Inference)\n",
    "- [Bi-gram Stopwords](#Bi-grams-Stopwords)\n",
    "    "
   ]
  },
  {
   "cell_type": "markdown",
   "metadata": {},
   "source": [
    "## Imports"
   ]
  },
  {
   "cell_type": "code",
   "execution_count": 1,
   "metadata": {},
   "outputs": [],
   "source": [
    "import pandas as pd\n",
    "import numpy as np\n",
    "import matplotlib.pyplot as plt\n",
    "import seaborn as sns\n",
    "import os\n",
    "\n",
    "from sklearn.feature_extraction.text import CountVectorizer, TfidfVectorizer\n",
    "from sklearn.feature_extraction import stop_words\n",
    "\n",
    "from sklearn.pipeline import Pipeline\n",
    "\n",
    "from sklearn.model_selection import train_test_split, GridSearchCV\n",
    "\n",
    "from sklearn.linear_model import LogisticRegression\n",
    "\n",
    "from sklearn.naive_bayes import MultinomialNB, ComplementNB, GaussianNB, BernoulliNB\n",
    "\n",
    "from sklearn.metrics import confusion_matrix, accuracy_score, roc_curve, auc\n",
    "\n",
    "from nltk.stem import WordNetLemmatizer\n",
    "from nltk.stem.porter import PorterStemmer\n",
    "from nltk.stem import SnowballStemmer\n",
    "from nltk.tokenize import ToktokTokenizer\n",
    "from nltk.sentiment.vader import SentimentIntensityAnalyzer\n",
    "from nltk.corpus import stopwords \n",
    "\n",
    "import regex as re\n",
    "\n",
    "from scipy.stats import ttest_ind"
   ]
  },
  {
   "cell_type": "markdown",
   "metadata": {},
   "source": [
    "## Merging Uber & Lyft Datasets"
   ]
  },
  {
   "cell_type": "code",
   "execution_count": 2,
   "metadata": {},
   "outputs": [
    {
     "data": {
      "text/plain": [
       "['.DS_Store',\n",
       " 'projectREADME.md',\n",
       " 'Requirements.txt',\n",
       " 'README.md',\n",
       " 'data_csv',\n",
       " 'Reddit - Webscraping.ipynb',\n",
       " '.gitignore',\n",
       " 'Reddit - NLP EDA.ipynb',\n",
       " '.ipynb_checkpoints',\n",
       " 'reddit_creds.json',\n",
       " '.git']"
      ]
     },
     "execution_count": 2,
     "metadata": {},
     "output_type": "execute_result"
    }
   ],
   "source": [
    "os.listdir()"
   ]
  },
  {
   "cell_type": "code",
   "execution_count": 3,
   "metadata": {},
   "outputs": [
    {
     "data": {
      "text/plain": [
       "'/Users/Work/Documents/github/ga/projects/project_3'"
      ]
     },
     "execution_count": 3,
     "metadata": {},
     "output_type": "execute_result"
    }
   ],
   "source": [
    "pwd"
   ]
  },
  {
   "cell_type": "code",
   "execution_count": 4,
   "metadata": {},
   "outputs": [],
   "source": [
    "df_names_ls = [file.split('_')[0] for file in os.listdir('data_csv')[1:]]"
   ]
  },
  {
   "cell_type": "code",
   "execution_count": 5,
   "metadata": {},
   "outputs": [
    {
     "data": {
      "text/plain": [
       "['uber20191010',\n",
       " 'uber20191013',\n",
       " 'lyft20191009',\n",
       " 'master',\n",
       " 'lyft20191010',\n",
       " 'lyft20191013',\n",
       " 'uber20191009']"
      ]
     },
     "execution_count": 5,
     "metadata": {},
     "output_type": "execute_result"
    }
   ],
   "source": [
    "df_names_ls"
   ]
  },
  {
   "cell_type": "code",
   "execution_count": 6,
   "metadata": {},
   "outputs": [],
   "source": [
    "file_paths = ['./data_csv/' + str(name) for name in os.listdir('data_csv')[1:]]"
   ]
  },
  {
   "cell_type": "code",
   "execution_count": 7,
   "metadata": {},
   "outputs": [
    {
     "data": {
      "text/plain": [
       "['./data_csv/uber20191010_10_59.csv',\n",
       " './data_csv/uber20191013_14_44.csv',\n",
       " './data_csv/lyft20191009_22_08.csv',\n",
       " './data_csv/master_df.csv',\n",
       " './data_csv/lyft20191010_10_59.csv',\n",
       " './data_csv/lyft20191013_14_44.csv',\n",
       " './data_csv/uber20191009_22_08.csv']"
      ]
     },
     "execution_count": 7,
     "metadata": {},
     "output_type": "execute_result"
    }
   ],
   "source": [
    "file_paths"
   ]
  },
  {
   "cell_type": "code",
   "execution_count": 8,
   "metadata": {},
   "outputs": [
    {
     "data": {
      "text/html": [
       "<div>\n",
       "<style scoped>\n",
       "    .dataframe tbody tr th:only-of-type {\n",
       "        vertical-align: middle;\n",
       "    }\n",
       "\n",
       "    .dataframe tbody tr th {\n",
       "        vertical-align: top;\n",
       "    }\n",
       "\n",
       "    .dataframe thead th {\n",
       "        text-align: right;\n",
       "    }\n",
       "</style>\n",
       "<table border=\"1\" class=\"dataframe\">\n",
       "  <thead>\n",
       "    <tr style=\"text-align: right;\">\n",
       "      <th></th>\n",
       "      <th>title</th>\n",
       "      <th>num_comments</th>\n",
       "      <th>elapsed_time</th>\n",
       "      <th>subreddit</th>\n",
       "      <th>body</th>\n",
       "      <th>comments</th>\n",
       "    </tr>\n",
       "  </thead>\n",
       "  <tbody>\n",
       "  </tbody>\n",
       "</table>\n",
       "</div>"
      ],
      "text/plain": [
       "Empty DataFrame\n",
       "Columns: [title, num_comments, elapsed_time, subreddit, body, comments]\n",
       "Index: []"
      ]
     },
     "execution_count": 8,
     "metadata": {},
     "output_type": "execute_result"
    }
   ],
   "source": [
    "master_cols = {\n",
    "    'title': [],\n",
    "    'num_comments': [],\n",
    "    'elapsed_time': [],\n",
    "    'subreddit': [],\n",
    "    'body': [],\n",
    "    'comments': []\n",
    "}\n",
    "\n",
    "\n",
    "master_df = pd.DataFrame(master_cols)\n",
    "\n",
    "master_df.head()"
   ]
  },
  {
   "cell_type": "code",
   "execution_count": 9,
   "metadata": {},
   "outputs": [
    {
     "name": "stderr",
     "output_type": "stream",
     "text": [
      "/Users/Work/anaconda3/lib/python3.7/site-packages/ipykernel_launcher.py:4: FutureWarning: Sorting because non-concatenation axis is not aligned. A future version\n",
      "of pandas will change to not sort by default.\n",
      "\n",
      "To accept the future behavior, pass 'sort=False'.\n",
      "\n",
      "To retain the current behavior and silence the warning, pass 'sort=True'.\n",
      "\n",
      "  after removing the cwd from sys.path.\n"
     ]
    },
    {
     "data": {
      "text/html": [
       "<div>\n",
       "<style scoped>\n",
       "    .dataframe tbody tr th:only-of-type {\n",
       "        vertical-align: middle;\n",
       "    }\n",
       "\n",
       "    .dataframe tbody tr th {\n",
       "        vertical-align: top;\n",
       "    }\n",
       "\n",
       "    .dataframe thead th {\n",
       "        text-align: right;\n",
       "    }\n",
       "</style>\n",
       "<table border=\"1\" class=\"dataframe\">\n",
       "  <thead>\n",
       "    <tr style=\"text-align: right;\">\n",
       "      <th></th>\n",
       "      <th>all_text</th>\n",
       "      <th>body</th>\n",
       "      <th>comments</th>\n",
       "      <th>elapsed_time</th>\n",
       "      <th>num_comments</th>\n",
       "      <th>subreddit</th>\n",
       "      <th>target</th>\n",
       "      <th>title</th>\n",
       "    </tr>\n",
       "  </thead>\n",
       "  <tbody>\n",
       "    <tr>\n",
       "      <td>0</td>\n",
       "      <td>NaN</td>\n",
       "      <td>(tl;dr - a driver touched me sexually last wee...</td>\n",
       "      <td>NaN</td>\n",
       "      <td>0.008974</td>\n",
       "      <td>0.0</td>\n",
       "      <td>uber</td>\n",
       "      <td>NaN</td>\n",
       "      <td>Procedure On Making An Incident Report On Sexu...</td>\n",
       "    </tr>\n",
       "    <tr>\n",
       "      <td>1</td>\n",
       "      <td>NaN</td>\n",
       "      <td>(TL;DR: Uber malfunctions, overcharges me, and...</td>\n",
       "      <td>Uber lacks Tegridy Uber will fuck you anyway t...</td>\n",
       "      <td>0.090444</td>\n",
       "      <td>5.0</td>\n",
       "      <td>uber</td>\n",
       "      <td>NaN</td>\n",
       "      <td>This is the AVOID UBER AT ALL COSTS post you m...</td>\n",
       "    </tr>\n",
       "    <tr>\n",
       "      <td>2</td>\n",
       "      <td>NaN</td>\n",
       "      <td>I wanted to share a recent experience I had wi...</td>\n",
       "      <td>You're fucked.  If the cops don't care (which ...</td>\n",
       "      <td>0.195074</td>\n",
       "      <td>13.0</td>\n",
       "      <td>uber</td>\n",
       "      <td>NaN</td>\n",
       "      <td>Uber needs a better way to contact drivers</td>\n",
       "    </tr>\n",
       "    <tr>\n",
       "      <td>3</td>\n",
       "      <td>NaN</td>\n",
       "      <td>No coordination at all.  None of the Ubers tha...</td>\n",
       "      <td>Yeah you learn quick. I will never do some lar...</td>\n",
       "      <td>0.529877</td>\n",
       "      <td>4.0</td>\n",
       "      <td>uber</td>\n",
       "      <td>NaN</td>\n",
       "      <td>Hey Uber, your Dodger Stadium setup is absolut...</td>\n",
       "    </tr>\n",
       "    <tr>\n",
       "      <td>4</td>\n",
       "      <td>NaN</td>\n",
       "      <td>Image</td>\n",
       "      <td>I am surprised that you are the only one talki...</td>\n",
       "      <td>0.560190</td>\n",
       "      <td>4.0</td>\n",
       "      <td>uber</td>\n",
       "      <td>NaN</td>\n",
       "      <td>Uber losses slam stock of James River as insur...</td>\n",
       "    </tr>\n",
       "  </tbody>\n",
       "</table>\n",
       "</div>"
      ],
      "text/plain": [
       "  all_text                                               body  \\\n",
       "0      NaN  (tl;dr - a driver touched me sexually last wee...   \n",
       "1      NaN  (TL;DR: Uber malfunctions, overcharges me, and...   \n",
       "2      NaN  I wanted to share a recent experience I had wi...   \n",
       "3      NaN  No coordination at all.  None of the Ubers tha...   \n",
       "4      NaN                                              Image   \n",
       "\n",
       "                                            comments  elapsed_time  \\\n",
       "0                                                NaN      0.008974   \n",
       "1  Uber lacks Tegridy Uber will fuck you anyway t...      0.090444   \n",
       "2  You're fucked.  If the cops don't care (which ...      0.195074   \n",
       "3  Yeah you learn quick. I will never do some lar...      0.529877   \n",
       "4  I am surprised that you are the only one talki...      0.560190   \n",
       "\n",
       "   num_comments subreddit  target  \\\n",
       "0           0.0      uber     NaN   \n",
       "1           5.0      uber     NaN   \n",
       "2          13.0      uber     NaN   \n",
       "3           4.0      uber     NaN   \n",
       "4           4.0      uber     NaN   \n",
       "\n",
       "                                               title  \n",
       "0  Procedure On Making An Incident Report On Sexu...  \n",
       "1  This is the AVOID UBER AT ALL COSTS post you m...  \n",
       "2         Uber needs a better way to contact drivers  \n",
       "3  Hey Uber, your Dodger Stadium setup is absolut...  \n",
       "4  Uber losses slam stock of James River as insur...  "
      ]
     },
     "execution_count": 9,
     "metadata": {},
     "output_type": "execute_result"
    }
   ],
   "source": [
    "\n",
    "for file_path in file_paths:\n",
    "    \n",
    "    master_df = pd.concat([master_df, pd.read_csv(file_path)])\n",
    "\n",
    "master_df.head()"
   ]
  },
  {
   "cell_type": "markdown",
   "metadata": {},
   "source": [
    "## Cleaning Up Dataset"
   ]
  },
  {
   "cell_type": "code",
   "execution_count": 10,
   "metadata": {
    "scrolled": true
   },
   "outputs": [
    {
     "data": {
      "text/plain": [
       "(8019, 8)"
      ]
     },
     "execution_count": 10,
     "metadata": {},
     "output_type": "execute_result"
    }
   ],
   "source": [
    "master_df.shape"
   ]
  },
  {
   "cell_type": "code",
   "execution_count": 11,
   "metadata": {},
   "outputs": [],
   "source": [
    "# Dropping duplicates by keeping latest webscrape\n",
    "\n",
    "master_df = master_df.sort_values(['title',\n",
    "                       'elapsed_time', 'num_comments'],\n",
    "                      ascending = False).drop_duplicates(subset = ['title', 'body'],\n",
    "                                                         keep ='first')\n"
   ]
  },
  {
   "cell_type": "code",
   "execution_count": 12,
   "metadata": {},
   "outputs": [
    {
     "data": {
      "text/plain": [
       "(2135, 8)"
      ]
     },
     "execution_count": 12,
     "metadata": {},
     "output_type": "execute_result"
    }
   ],
   "source": [
    "master_df.shape"
   ]
  },
  {
   "cell_type": "code",
   "execution_count": 13,
   "metadata": {},
   "outputs": [
    {
     "data": {
      "text/plain": [
       "all_text        1061\n",
       "body              77\n",
       "comments          44\n",
       "elapsed_time       0\n",
       "num_comments       0\n",
       "subreddit          0\n",
       "target          1061\n",
       "title              0\n",
       "dtype: int64"
      ]
     },
     "execution_count": 13,
     "metadata": {},
     "output_type": "execute_result"
    }
   ],
   "source": [
    "master_df.isna().sum()"
   ]
  },
  {
   "cell_type": "code",
   "execution_count": 14,
   "metadata": {},
   "outputs": [],
   "source": [
    "# Replace No body texts with spaces\n",
    "\n",
    "master_df.loc[master_df['body'].isna(), ['body']] = ' '"
   ]
  },
  {
   "cell_type": "code",
   "execution_count": 15,
   "metadata": {},
   "outputs": [],
   "source": [
    "# Replace No comments with spaces\n",
    "\n",
    "master_df.loc[master_df['comments'].isna(), ['comments']] = ' '"
   ]
  },
  {
   "cell_type": "code",
   "execution_count": 16,
   "metadata": {},
   "outputs": [
    {
     "data": {
      "text/plain": [
       "all_text        1061\n",
       "body               0\n",
       "comments           0\n",
       "elapsed_time       0\n",
       "num_comments       0\n",
       "subreddit          0\n",
       "target          1061\n",
       "title              0\n",
       "dtype: int64"
      ]
     },
     "execution_count": 16,
     "metadata": {},
     "output_type": "execute_result"
    }
   ],
   "source": [
    "master_df.isna().sum()"
   ]
  },
  {
   "cell_type": "code",
   "execution_count": 17,
   "metadata": {},
   "outputs": [
    {
     "data": {
      "text/plain": [
       "Lyft    1070\n",
       "uber    1065\n",
       "Name: subreddit, dtype: int64"
      ]
     },
     "execution_count": 17,
     "metadata": {},
     "output_type": "execute_result"
    }
   ],
   "source": [
    "master_df['subreddit'].value_counts()"
   ]
  },
  {
   "cell_type": "code",
   "execution_count": 18,
   "metadata": {},
   "outputs": [],
   "source": [
    "master_df['all_text'] = master_df['title'] + master_df['body'] + master_df['comments']"
   ]
  },
  {
   "cell_type": "code",
   "execution_count": 19,
   "metadata": {},
   "outputs": [],
   "source": [
    "# Creating target column\n",
    "# uber = 1, lyft = 0\n",
    "\n",
    "master_df['target'] = master_df['subreddit'].replace({'uber':1,\n",
    "                               'Lyft': 0})"
   ]
  },
  {
   "cell_type": "code",
   "execution_count": 20,
   "metadata": {
    "scrolled": true
   },
   "outputs": [
    {
     "data": {
      "text/plain": [
       "0    0.501171\n",
       "1    0.498829\n",
       "Name: target, dtype: float64"
      ]
     },
     "execution_count": 20,
     "metadata": {},
     "output_type": "execute_result"
    }
   ],
   "source": [
    "# Confirming balanced targets\n",
    "# Baseline Score: essentially a coin flip between the two targets\n",
    "\n",
    "master_df['target'].value_counts(normalize = True)"
   ]
  },
  {
   "cell_type": "code",
   "execution_count": 21,
   "metadata": {},
   "outputs": [
    {
     "data": {
      "text/html": [
       "<div>\n",
       "<style scoped>\n",
       "    .dataframe tbody tr th:only-of-type {\n",
       "        vertical-align: middle;\n",
       "    }\n",
       "\n",
       "    .dataframe tbody tr th {\n",
       "        vertical-align: top;\n",
       "    }\n",
       "\n",
       "    .dataframe thead th {\n",
       "        text-align: right;\n",
       "    }\n",
       "</style>\n",
       "<table border=\"1\" class=\"dataframe\">\n",
       "  <thead>\n",
       "    <tr style=\"text-align: right;\">\n",
       "      <th></th>\n",
       "      <th>all_text</th>\n",
       "      <th>body</th>\n",
       "      <th>comments</th>\n",
       "      <th>elapsed_time</th>\n",
       "      <th>num_comments</th>\n",
       "      <th>subreddit</th>\n",
       "      <th>target</th>\n",
       "      <th>title</th>\n",
       "    </tr>\n",
       "  </thead>\n",
       "  <tbody>\n",
       "    <tr>\n",
       "      <td>739</td>\n",
       "      <td>“You’re in a busy area, expect trips soon”Is t...</td>\n",
       "      <td>Is this a glitch? Its been stuck on this for l...</td>\n",
       "      <td>I don't know if it's a glitch or not but I do ...</td>\n",
       "      <td>77.615237</td>\n",
       "      <td>1.0</td>\n",
       "      <td>uber</td>\n",
       "      <td>1</td>\n",
       "      <td>“You’re in a busy area, expect trips soon”</td>\n",
       "    </tr>\n",
       "    <tr>\n",
       "      <td>9</td>\n",
       "      <td>“We can squeeze in!”I drive an Uber X and got ...</td>\n",
       "      <td>I drive an Uber X and got a ping last night. P...</td>\n",
       "      <td>I once had to leave a group of five in the rai...</td>\n",
       "      <td>0.811718</td>\n",
       "      <td>3.0</td>\n",
       "      <td>uber</td>\n",
       "      <td>1</td>\n",
       "      <td>“We can squeeze in!”</td>\n",
       "    </tr>\n",
       "    <tr>\n",
       "      <td>2</td>\n",
       "      <td>“New” riders on Lyft are not new at all!I’ve n...</td>\n",
       "      <td>I’ve noticed a lot of “New” riders on Lyft lat...</td>\n",
       "      <td>People create new accounts by using multiple m...</td>\n",
       "      <td>23.800846</td>\n",
       "      <td>23.0</td>\n",
       "      <td>Lyft</td>\n",
       "      <td>0</td>\n",
       "      <td>“New” riders on Lyft are not new at all!</td>\n",
       "    </tr>\n",
       "  </tbody>\n",
       "</table>\n",
       "</div>"
      ],
      "text/plain": [
       "                                              all_text  \\\n",
       "739  “You’re in a busy area, expect trips soon”Is t...   \n",
       "9    “We can squeeze in!”I drive an Uber X and got ...   \n",
       "2    “New” riders on Lyft are not new at all!I’ve n...   \n",
       "\n",
       "                                                  body  \\\n",
       "739  Is this a glitch? Its been stuck on this for l...   \n",
       "9    I drive an Uber X and got a ping last night. P...   \n",
       "2    I’ve noticed a lot of “New” riders on Lyft lat...   \n",
       "\n",
       "                                              comments  elapsed_time  \\\n",
       "739  I don't know if it's a glitch or not but I do ...     77.615237   \n",
       "9    I once had to leave a group of five in the rai...      0.811718   \n",
       "2    People create new accounts by using multiple m...     23.800846   \n",
       "\n",
       "     num_comments subreddit  target  \\\n",
       "739           1.0      uber       1   \n",
       "9             3.0      uber       1   \n",
       "2            23.0      Lyft       0   \n",
       "\n",
       "                                          title  \n",
       "739  “You’re in a busy area, expect trips soon”  \n",
       "9                          “We can squeeze in!”  \n",
       "2      “New” riders on Lyft are not new at all!  "
      ]
     },
     "execution_count": 21,
     "metadata": {},
     "output_type": "execute_result"
    }
   ],
   "source": [
    "master_df.head(3)"
   ]
  },
  {
   "cell_type": "markdown",
   "metadata": {},
   "source": [
    "### Preprocessor to All Text"
   ]
  },
  {
   "cell_type": "code",
   "execution_count": 22,
   "metadata": {},
   "outputs": [],
   "source": [
    "lemmatizer = WordNetLemmatizer()\n",
    "toktok = ToktokTokenizer()\n",
    "port_stemmer = PorterStemmer()\n",
    "snowball_stemmer = SnowballStemmer('english')"
   ]
  },
  {
   "cell_type": "code",
   "execution_count": 23,
   "metadata": {},
   "outputs": [],
   "source": [
    "# Removing punctuation from all text before preprocessing\n",
    "\n",
    "master_df['alltxt_punc_remove'] = [re.sub(\"[^a-zA-Z]\", \" \", post) for post in master_df['all_text']]"
   ]
  },
  {
   "cell_type": "code",
   "execution_count": 25,
   "metadata": {},
   "outputs": [],
   "source": [
    "# Lemmatizing all_text\n",
    "\n",
    "clean_post_list = []\n",
    "\n",
    "for post in master_df['alltxt_punc_remove']:\n",
    "    \n",
    "    clean_word_list = []\n",
    "    \n",
    "    for word in post.split(' '):\n",
    "        clean_word = lemmatizer.lemmatize(word).lower()\n",
    "        clean_word_list.append(clean_word)\n",
    "    \n",
    "    clean_post_list.append(\" \".join(clean_word_list))\n",
    "\n",
    "master_df['alltxt_lemmatize'] = clean_post_list"
   ]
  },
  {
   "cell_type": "code",
   "execution_count": 27,
   "metadata": {},
   "outputs": [],
   "source": [
    "# TokTok Tokenizing all_text\n",
    "clean_post_list = []\n",
    "\n",
    "for post in master_df['alltxt_punc_remove']:\n",
    "    \n",
    "    clean_word_list = []\n",
    "    \n",
    "    for word in post.split(' '):\n",
    "        clean_word = toktok.tokenize(word.lower())\n",
    "        \n",
    "        for item in clean_word:\n",
    "            \n",
    "            if type(item) == str:\n",
    "                clean_word_list.append(item)\n",
    "\n",
    "    \n",
    "    clean_post_list.append(\" \".join(clean_word_list))\n",
    "    \n",
    "master_df['alltxt_toktok'] = clean_post_list"
   ]
  },
  {
   "cell_type": "code",
   "execution_count": 28,
   "metadata": {},
   "outputs": [],
   "source": [
    "# Porter Stemming all_text\n",
    "clean_post_list = []\n",
    "\n",
    "for post in master_df['alltxt_punc_remove']:\n",
    "    \n",
    "    clean_word_list = []\n",
    "    \n",
    "    for word in post.split(' '):\n",
    "        clean_word = port_stemmer.stem(word).lower()\n",
    "        clean_word_list.append(clean_word)\n",
    "    \n",
    "    clean_post_list.append(\" \".join(clean_word_list))\n",
    "    \n",
    "master_df['alltxt_porter'] = clean_post_list"
   ]
  },
  {
   "cell_type": "code",
   "execution_count": 29,
   "metadata": {},
   "outputs": [],
   "source": [
    "# Snowball Stemming all_text\n",
    "\n",
    "clean_post_list = []\n",
    "\n",
    "for post in master_df['alltxt_punc_remove']:\n",
    "    \n",
    "    clean_word_list = []\n",
    "    \n",
    "    for word in post.split(' '):\n",
    "        clean_word = snowball_stemmer.stem(word).lower()\n",
    "        clean_word_list.append(clean_word)\n",
    "    \n",
    "    clean_post_list.append(\" \".join(clean_word_list))\n",
    "    \n",
    "master_df['alltxt_snowball'] = clean_post_list"
   ]
  },
  {
   "cell_type": "markdown",
   "metadata": {},
   "source": [
    "### Stopwords"
   ]
  },
  {
   "cell_type": "code",
   "execution_count": 30,
   "metadata": {},
   "outputs": [],
   "source": [
    "# Stop Words Lists\n",
    "\n",
    "custom_stopwords_ls = ['uber',\n",
    "                       'lyft',\n",
    "                      'https',\n",
    "                      'com',\n",
    "                      'www',\n",
    "                      'amazon',\n",
    "                       'the',\n",
    "                       'you',\n",
    "                       'of',\n",
    "                       'sure'\n",
    "                      ]\n",
    "\n",
    "no_sw_ls = ['uber',\n",
    "           'lyft']\n",
    "\n",
    "keep_ls = ['no', 'not']\n",
    "\n",
    "for word in stopwords.words('english'):\n",
    "    if word in keep_ls:\n",
    "        pass\n",
    "    else:\n",
    "        custom_stopwords_ls.append(word)"
   ]
  },
  {
   "cell_type": "markdown",
   "metadata": {},
   "source": [
    "## Pipelines & Gridsearches\n",
    "- Included & adjusted a wide variety of paramateres initially.\n",
    "- Narrowed down on the parameters based on different best_params_ for each different model to shorten runtime."
   ]
  },
  {
   "cell_type": "markdown",
   "metadata": {},
   "source": [
    "### Unprocessed \"all_text\""
   ]
  },
  {
   "cell_type": "code",
   "execution_count": 31,
   "metadata": {},
   "outputs": [
    {
     "name": "stderr",
     "output_type": "stream",
     "text": [
      "/Users/Work/anaconda3/lib/python3.7/site-packages/sklearn/linear_model/logistic.py:433: FutureWarning: Default solver will be changed to 'lbfgs' in 0.22. Specify a solver to silence this warning.\n",
      "  FutureWarning)\n",
      "/Users/Work/anaconda3/lib/python3.7/site-packages/sklearn/linear_model/logistic.py:433: FutureWarning: Default solver will be changed to 'lbfgs' in 0.22. Specify a solver to silence this warning.\n",
      "  FutureWarning)\n"
     ]
    },
    {
     "name": "stdout",
     "output_type": "stream",
     "text": [
      "gs1 Best GridSearch (cv = 5) Score: 0.6096189881324172\n",
      "gs1a Best GridSearch (cv = 5) Score: 0.6246096189881324\n",
      "gs2 Best GridSearch (cv = 5) Score: 0.6083697688944409\n",
      "gs2a Best GridSearch (cv = 5) Score: 0.6114928169893816\n"
     ]
    }
   ],
   "source": [
    "# Train-Test Splitting\n",
    "X = master_df['all_text']\n",
    "y = master_df['target']\n",
    "\n",
    "X_train, X_test, y_train, y_test = train_test_split(X,\n",
    "                                                    y,\n",
    "\n",
    "                                                    random_state=42)\n",
    "# Instantiating Pipelines\n",
    "pipe_cvecLR = Pipeline([\n",
    "    ('cvec', CountVectorizer()),\n",
    "    ('logreg', LogisticRegression())\n",
    "])\n",
    "\n",
    "pipe_tfidfLR = Pipeline([\n",
    "    ('tfidf', TfidfVectorizer()),\n",
    "    ('logreg', LogisticRegression())\n",
    "])\n",
    "\n",
    "pipe_cvecMNB = Pipeline([\n",
    "    ('cvec', CountVectorizer()),\n",
    "    ('multinb', MultinomialNB())\n",
    "])\n",
    "\n",
    "pipe_tfidfMNB = Pipeline([\n",
    "    ('tfidf', TfidfVectorizer()),\n",
    "    ('multinb', MultinomialNB())\n",
    "])\n",
    "\n",
    "\n",
    "\n",
    "# Pipe Parameters\n",
    "pipe_cvec_params = {\n",
    "    'cvec__max_features': [100, 500],\n",
    "    'cvec__stop_words': [custom_stopwords_ls, no_sw_ls],\n",
    "    'cvec__max_df': [0.9],\n",
    "    'cvec__min_df': [10],\n",
    "    'cvec__ngram_range': [(2,4)]\n",
    "}\n",
    "\n",
    "pipe_tfidf_params = {\n",
    "    'tfidf__max_features': [100, 500],\n",
    "    'tfidf__stop_words': [custom_stopwords_ls, no_sw_ls],\n",
    "    'tfidf__max_df': [0.9],\n",
    "    'tfidf__min_df': [10],\n",
    "    'tfidf__ngram_range': [(2,4)]\n",
    "}\n",
    "\n",
    "\n",
    "# Instantiating GridSearches\n",
    "gs1 = GridSearchCV(pipe_cvecLR, pipe_cvec_params, cv = 5)\n",
    "gs1a = GridSearchCV(pipe_tfidfLR, pipe_tfidf_params, cv = 5)\n",
    "gs2 = GridSearchCV(pipe_cvecMNB, pipe_cvec_params, cv = 5)\n",
    "gs2a = GridSearchCV(pipe_tfidfMNB, pipe_tfidf_params, cv = 5)\n",
    "\n",
    "# Fitting 2 Logistic Regressions\n",
    "gs1.fit(X_train, y_train)\n",
    "gs1a.fit(X_train, y_train)\n",
    "\n",
    "\n",
    "# Fitting 2 Bernoulli Naive Bayes\n",
    "gs2.fit(X_train, y_train)\n",
    "gs2a.fit(X_train, y_train)\n",
    "\n",
    "print(f'gs1 Best GridSearch (cv = 5) Score: {gs1.best_score_}')\n",
    "print(f'gs1a Best GridSearch (cv = 5) Score: {gs1a.best_score_}')\n",
    "print(f'gs2 Best GridSearch (cv = 5) Score: {gs2.best_score_}')\n",
    "print(f'gs2a Best GridSearch (cv = 5) Score: {gs2a.best_score_}')"
   ]
  },
  {
   "cell_type": "markdown",
   "metadata": {},
   "source": [
    "### Porter Stemmed \"all_text\""
   ]
  },
  {
   "cell_type": "code",
   "execution_count": 33,
   "metadata": {},
   "outputs": [
    {
     "name": "stderr",
     "output_type": "stream",
     "text": [
      "/Users/Work/anaconda3/lib/python3.7/site-packages/sklearn/linear_model/logistic.py:433: FutureWarning: Default solver will be changed to 'lbfgs' in 0.22. Specify a solver to silence this warning.\n",
      "  FutureWarning)\n",
      "/Users/Work/anaconda3/lib/python3.7/site-packages/sklearn/linear_model/logistic.py:433: FutureWarning: Default solver will be changed to 'lbfgs' in 0.22. Specify a solver to silence this warning.\n",
      "  FutureWarning)\n"
     ]
    },
    {
     "name": "stdout",
     "output_type": "stream",
     "text": [
      "gs1 Best GridSearch (cv = 5) Score: 0.5921299188007495\n",
      "gs1a Best GridSearch (cv = 5) Score: 0.6202373516552155\n",
      "gs2 Best GridSearch (cv = 5) Score: 0.6127420362273579\n",
      "gs2a Best GridSearch (cv = 5) Score: 0.6108682073703935\n"
     ]
    }
   ],
   "source": [
    "# Train-Test Splitting\n",
    "X = master_df['alltxt_porter']\n",
    "y = master_df['target']\n",
    "\n",
    "X_train, X_test, y_train, y_test = train_test_split(X,\n",
    "                                                    y,\n",
    "\n",
    "                                                    random_state=42)\n",
    "# Instantiating Pipelines\n",
    "pipe_cvecLR = Pipeline([\n",
    "    ('cvec', CountVectorizer()),\n",
    "    ('logreg', LogisticRegression())\n",
    "])\n",
    "\n",
    "pipe_tfidfLR = Pipeline([\n",
    "    ('tfidf', TfidfVectorizer()),\n",
    "    ('logreg', LogisticRegression())\n",
    "])\n",
    "\n",
    "pipe_cvecMNB = Pipeline([\n",
    "    ('cvec', CountVectorizer()),\n",
    "    ('multinb', MultinomialNB())\n",
    "])\n",
    "\n",
    "pipe_tfidfMNB = Pipeline([\n",
    "    ('tfidf', TfidfVectorizer()),\n",
    "    ('multinb', MultinomialNB())\n",
    "])\n",
    "\n",
    "\n",
    "\n",
    "# Pipe Parameters\n",
    "pipe_cvec_params = {\n",
    "    'cvec__max_features': [100, 500],\n",
    "    'cvec__stop_words': [custom_stopwords_ls, no_sw_ls],\n",
    "    'cvec__max_df': [0.9],\n",
    "    'cvec__min_df': [10],\n",
    "    'cvec__ngram_range': [(2,4)]\n",
    "}\n",
    "\n",
    "pipe_tfidf_params = {\n",
    "    'tfidf__max_features': [100, 500],\n",
    "    'tfidf__stop_words': [custom_stopwords_ls, no_sw_ls],\n",
    "    'tfidf__max_df': [0.9],\n",
    "    'tfidf__min_df': [10],\n",
    "    'tfidf__ngram_range': [(2,4)]\n",
    "}\n",
    "\n",
    "\n",
    "# Instantiating GridSearches\n",
    "gs1 = GridSearchCV(pipe_cvecLR, pipe_cvec_params, cv = 5)\n",
    "gs1a = GridSearchCV(pipe_tfidfLR, pipe_tfidf_params, cv = 5)\n",
    "gs2 = GridSearchCV(pipe_cvecMNB, pipe_cvec_params, cv = 5)\n",
    "gs2a = GridSearchCV(pipe_tfidfMNB, pipe_tfidf_params, cv = 5)\n",
    "\n",
    "# Fitting 2 Logistic Regressions\n",
    "gs1.fit(X_train, y_train)\n",
    "gs1a.fit(X_train, y_train)\n",
    "\n",
    "\n",
    "# Fitting 2 Bernoulli Naive Bayes\n",
    "gs2.fit(X_train, y_train)\n",
    "gs2a.fit(X_train, y_train)\n",
    "\n",
    "print(f'gs1 Best GridSearch (cv = 5) Score: {gs1.best_score_}')\n",
    "print(f'gs1a Best GridSearch (cv = 5) Score: {gs1a.best_score_}')\n",
    "print(f'gs2 Best GridSearch (cv = 5) Score: {gs2.best_score_}')\n",
    "print(f'gs2a Best GridSearch (cv = 5) Score: {gs2a.best_score_}')"
   ]
  },
  {
   "cell_type": "markdown",
   "metadata": {},
   "source": [
    "### TokTok Tokenized \"all_text\""
   ]
  },
  {
   "cell_type": "code",
   "execution_count": 36,
   "metadata": {},
   "outputs": [
    {
     "name": "stderr",
     "output_type": "stream",
     "text": [
      "/Users/Work/anaconda3/lib/python3.7/site-packages/sklearn/linear_model/logistic.py:433: FutureWarning: Default solver will be changed to 'lbfgs' in 0.22. Specify a solver to silence this warning.\n",
      "  FutureWarning)\n",
      "/Users/Work/anaconda3/lib/python3.7/site-packages/sklearn/linear_model/logistic.py:433: FutureWarning: Default solver will be changed to 'lbfgs' in 0.22. Specify a solver to silence this warning.\n",
      "  FutureWarning)\n"
     ]
    },
    {
     "name": "stdout",
     "output_type": "stream",
     "text": [
      "gs1 Best GridSearch (cv = 5) Score: 0.6102435977514054\n",
      "gs1a Best GridSearch (cv = 5) Score: 0.6246096189881324\n",
      "gs2 Best GridSearch (cv = 5) Score: 0.6127420362273579\n",
      "gs2a Best GridSearch (cv = 5) Score: 0.6146158650843223\n"
     ]
    }
   ],
   "source": [
    "# Train-Test Splitting\n",
    "X = master_df['alltxt_toktok']\n",
    "y = master_df['target']\n",
    "\n",
    "X_train, X_test, y_train, y_test = train_test_split(X,\n",
    "                                                    y,\n",
    "\n",
    "                                                    random_state=42)\n",
    "# Instantiating Pipelines\n",
    "pipe_cvecLR = Pipeline([\n",
    "    ('cvec', CountVectorizer()),\n",
    "    ('logreg', LogisticRegression())\n",
    "])\n",
    "\n",
    "pipe_tfidfLR = Pipeline([\n",
    "    ('tfidf', TfidfVectorizer()),\n",
    "    ('logreg', LogisticRegression())\n",
    "])\n",
    "\n",
    "pipe_cvecMNB = Pipeline([\n",
    "    ('cvec', CountVectorizer()),\n",
    "    ('multinb', MultinomialNB())\n",
    "])\n",
    "\n",
    "pipe_tfidfMNB = Pipeline([\n",
    "    ('tfidf', TfidfVectorizer()),\n",
    "    ('multinb', MultinomialNB())\n",
    "])\n",
    "\n",
    "\n",
    "\n",
    "# Pipe Parameters\n",
    "pipe_cvec_params = {\n",
    "    'cvec__max_features': [100, 500],\n",
    "    'cvec__stop_words': [custom_stopwords_ls, no_sw_ls],\n",
    "    'cvec__max_df': [0.9],\n",
    "    'cvec__min_df': [10],\n",
    "    'cvec__ngram_range': [(2,4)]\n",
    "}\n",
    "\n",
    "pipe_tfidf_params = {\n",
    "    'tfidf__max_features': [100, 500],\n",
    "    'tfidf__stop_words': [custom_stopwords_ls, no_sw_ls],\n",
    "    'tfidf__max_df': [0.9],\n",
    "    'tfidf__min_df': [10],\n",
    "    'tfidf__ngram_range': [(2,4)]\n",
    "}\n",
    "\n",
    "\n",
    "# Instantiating GridSearches\n",
    "gs1 = GridSearchCV(pipe_cvecLR, pipe_cvec_params, cv = 5)\n",
    "gs1a = GridSearchCV(pipe_tfidfLR, pipe_tfidf_params, cv = 5)\n",
    "gs2 = GridSearchCV(pipe_cvecMNB, pipe_cvec_params, cv = 5)\n",
    "gs2a = GridSearchCV(pipe_tfidfMNB, pipe_tfidf_params, cv = 5)\n",
    "\n",
    "# Fitting 2 Logistic Regressions\n",
    "gs1.fit(X_train, y_train)\n",
    "gs1a.fit(X_train, y_train)\n",
    "\n",
    "\n",
    "# Fitting 2 Bernoulli Naive Bayes\n",
    "gs2.fit(X_train, y_train)\n",
    "gs2a.fit(X_train, y_train)\n",
    "\n",
    "print(f'gs1 Best GridSearch (cv = 5) Score: {gs1.best_score_}')\n",
    "print(f'gs1a Best GridSearch (cv = 5) Score: {gs1a.best_score_}')\n",
    "print(f'gs2 Best GridSearch (cv = 5) Score: {gs2.best_score_}')\n",
    "print(f'gs2a Best GridSearch (cv = 5) Score: {gs2a.best_score_}')"
   ]
  },
  {
   "cell_type": "markdown",
   "metadata": {},
   "source": [
    "### Snowball Stemmed \"all_text\""
   ]
  },
  {
   "cell_type": "code",
   "execution_count": 37,
   "metadata": {},
   "outputs": [
    {
     "name": "stderr",
     "output_type": "stream",
     "text": [
      "/Users/Work/anaconda3/lib/python3.7/site-packages/sklearn/linear_model/logistic.py:433: FutureWarning: Default solver will be changed to 'lbfgs' in 0.22. Specify a solver to silence this warning.\n",
      "  FutureWarning)\n",
      "/Users/Work/anaconda3/lib/python3.7/site-packages/sklearn/linear_model/logistic.py:433: FutureWarning: Default solver will be changed to 'lbfgs' in 0.22. Specify a solver to silence this warning.\n",
      "  FutureWarning)\n"
     ]
    },
    {
     "name": "stdout",
     "output_type": "stream",
     "text": [
      "gs1 Best GridSearch (cv = 5) Score: 0.6058713304184884\n",
      "gs1a Best GridSearch (cv = 5) Score: 0.63210493441599\n",
      "gs2 Best GridSearch (cv = 5) Score: 0.6121174266083698\n",
      "gs2a Best GridSearch (cv = 5) Score: 0.6139912554653342\n"
     ]
    }
   ],
   "source": [
    "# Train-Test Splitting\n",
    "X = master_df['alltxt_snowball']\n",
    "y = master_df['target']\n",
    "\n",
    "X_train, X_test, y_train, y_test = train_test_split(X,\n",
    "                                                    y,\n",
    "\n",
    "                                                    random_state=42)\n",
    "# Instantiating Pipelines\n",
    "pipe_cvecLR = Pipeline([\n",
    "    ('cvec', CountVectorizer()),\n",
    "    ('logreg', LogisticRegression())\n",
    "])\n",
    "\n",
    "pipe_tfidfLR = Pipeline([\n",
    "    ('tfidf', TfidfVectorizer()),\n",
    "    ('logreg', LogisticRegression())\n",
    "])\n",
    "\n",
    "pipe_cvecMNB = Pipeline([\n",
    "    ('cvec', CountVectorizer()),\n",
    "    ('multinb', MultinomialNB())\n",
    "])\n",
    "\n",
    "pipe_tfidfMNB = Pipeline([\n",
    "    ('tfidf', TfidfVectorizer()),\n",
    "    ('multinb', MultinomialNB())\n",
    "])\n",
    "\n",
    "\n",
    "\n",
    "# Pipe Parameters\n",
    "pipe_cvec_params = {\n",
    "    'cvec__max_features': [100, 500],\n",
    "    'cvec__stop_words': [custom_stopwords_ls, no_sw_ls],\n",
    "    'cvec__max_df': [0.9],\n",
    "    'cvec__min_df': [10],\n",
    "    'cvec__ngram_range': [(2,4)]\n",
    "}\n",
    "\n",
    "pipe_tfidf_params = {\n",
    "    'tfidf__max_features': [100, 500],\n",
    "    'tfidf__stop_words': [custom_stopwords_ls, no_sw_ls],\n",
    "    'tfidf__max_df': [0.9],\n",
    "    'tfidf__min_df': [10],\n",
    "    'tfidf__ngram_range': [(2,4)]\n",
    "}\n",
    "\n",
    "\n",
    "# Instantiating GridSearches\n",
    "gs1 = GridSearchCV(pipe_cvecLR, pipe_cvec_params, cv = 5)\n",
    "gs1a = GridSearchCV(pipe_tfidfLR, pipe_tfidf_params, cv = 5)\n",
    "gs2 = GridSearchCV(pipe_cvecMNB, pipe_cvec_params, cv = 5)\n",
    "gs2a = GridSearchCV(pipe_tfidfMNB, pipe_tfidf_params, cv = 5)\n",
    "\n",
    "# Fitting 2 Logistic Regressions\n",
    "gs1.fit(X_train, y_train)\n",
    "gs1a.fit(X_train, y_train)\n",
    "\n",
    "\n",
    "# Fitting 2 Bernoulli Naive Bayes\n",
    "gs2.fit(X_train, y_train)\n",
    "gs2a.fit(X_train, y_train)\n",
    "\n",
    "print(f'gs1 Best GridSearch (cv = 5) Score: {gs1.best_score_}')\n",
    "print(f'gs1a Best GridSearch (cv = 5) Score: {gs1a.best_score_}')\n",
    "print(f'gs2 Best GridSearch (cv = 5) Score: {gs2.best_score_}')\n",
    "print(f'gs2a Best GridSearch (cv = 5) Score: {gs2a.best_score_}')"
   ]
  },
  {
   "cell_type": "markdown",
   "metadata": {},
   "source": [
    "### Lemmatized \"all_text\""
   ]
  },
  {
   "cell_type": "code",
   "execution_count": 38,
   "metadata": {
    "scrolled": false
   },
   "outputs": [
    {
     "name": "stderr",
     "output_type": "stream",
     "text": [
      "/Users/Work/anaconda3/lib/python3.7/site-packages/sklearn/linear_model/logistic.py:433: FutureWarning: Default solver will be changed to 'lbfgs' in 0.22. Specify a solver to silence this warning.\n",
      "  FutureWarning)\n",
      "/Users/Work/anaconda3/lib/python3.7/site-packages/sklearn/linear_model/logistic.py:433: FutureWarning: Default solver will be changed to 'lbfgs' in 0.22. Specify a solver to silence this warning.\n",
      "  FutureWarning)\n"
     ]
    },
    {
     "name": "stdout",
     "output_type": "stream",
     "text": [
      "gs1 Best GridSearch (cv = 5) Score: 0.622735790131168\n",
      "gs1a Best GridSearch (cv = 5) Score: 0.637101811367895\n",
      "gs2 Best GridSearch (cv = 5) Score: 0.6189881324172393\n",
      "gs2a Best GridSearch (cv = 5) Score: 0.6246096189881324\n"
     ]
    }
   ],
   "source": [
    "# Train-Test Splitting\n",
    "# Including LogReg parameters made no significant \n",
    "# impact on my accuracy scores\n",
    "# so in order to improve run time, they will be excluded\n",
    "\n",
    "X = master_df['alltxt_lemmatize']\n",
    "y = master_df['target']\n",
    "\n",
    "X_train, X_test, y_train, y_test = train_test_split(X,\n",
    "                                                    y,\n",
    "\n",
    "                                                    random_state=42)\n",
    "# Instantiating Pipelines\n",
    "pipe_cvecLR = Pipeline([\n",
    "    ('cvec', CountVectorizer()),\n",
    "    ('logreg', LogisticRegression())\n",
    "])\n",
    "\n",
    "pipe_tfidfLR = Pipeline([\n",
    "    ('tfidf', TfidfVectorizer()),\n",
    "    ('logreg', LogisticRegression())\n",
    "])\n",
    "\n",
    "pipe_cvecMNB = Pipeline([\n",
    "    ('cvec', CountVectorizer()),\n",
    "    ('multinb', MultinomialNB())\n",
    "])\n",
    "\n",
    "pipe_tfidfMNB = Pipeline([\n",
    "    ('tfidf', TfidfVectorizer()),\n",
    "    ('multinb', MultinomialNB())\n",
    "])\n",
    "\n",
    "\n",
    "\n",
    "# Pipe Parameters\n",
    "pipe_cvec_paramsNB = {\n",
    "    'cvec__max_features': [100, 500],\n",
    "    'cvec__stop_words': [custom_stopwords_ls, no_sw_ls],\n",
    "    'cvec__max_df': [0.9],\n",
    "    'cvec__min_df': [10],\n",
    "    'cvec__ngram_range': [(2,4)]\n",
    "}\n",
    "\n",
    "pipe_cvec_paramsLR = {\n",
    "    'cvec__max_features': [100, 500],\n",
    "    'cvec__stop_words': [custom_stopwords_ls, no_sw_ls],\n",
    "    'cvec__max_df': [0.9],\n",
    "    'cvec__min_df': [10],\n",
    "    'cvec__ngram_range': [(2,4)]\n",
    "#     'logreg__C': [10e-2,10e-3,10e-4,10e-5,10e-6,10e-7,10e-8,10e-9,10e-10,10e-11],\n",
    "#     'logreg__penalty': ['l1','l2'],\n",
    "}\n",
    "\n",
    "pipe_tfidf_paramsLR = {\n",
    "    'tfidf__max_features': [100, 500],\n",
    "    'tfidf__stop_words': [custom_stopwords_ls, no_sw_ls],\n",
    "    'tfidf__max_df': [0.9],\n",
    "    'tfidf__min_df': [10],\n",
    "    'tfidf__ngram_range': [(2,4)]\n",
    "#     'logreg__C': [10e-2,10e-3,10e-4,10e-5,10e-6,10e-7,10e-8,10e-9,10e-10,10e-11],\n",
    "#     'logreg__penalty': ['l1','l2']\n",
    "}\n",
    "\n",
    "pipe_tfidf_paramsNB = {\n",
    "    'tfidf__max_features': [100, 500],\n",
    "    'tfidf__stop_words': [custom_stopwords_ls, no_sw_ls],\n",
    "    'tfidf__max_df': [0.9],\n",
    "    'tfidf__min_df': [10],\n",
    "    'tfidf__ngram_range': [(2,4)]\n",
    "}\n",
    "\n",
    "# Instantiating GridSearches\n",
    "gs1 = GridSearchCV(pipe_cvecLR, pipe_cvec_paramsLR, cv = 5)\n",
    "gs1a = GridSearchCV(pipe_tfidfLR, pipe_tfidf_paramsLR, cv = 5)\n",
    "gs2 = GridSearchCV(pipe_cvecMNB, pipe_cvec_paramsNB, cv = 5)\n",
    "gs2a = GridSearchCV(pipe_tfidfMNB, pipe_tfidf_paramsNB, cv = 5)\n",
    "\n",
    "# Fitting 2 Logistic Regressions\n",
    "gs1.fit(X_train, y_train)\n",
    "gs1a.fit(X_train, y_train)\n",
    "\n",
    "\n",
    "# Fitting 2 Bernoulli Naive Bayes\n",
    "gs2.fit(X_train, y_train)\n",
    "gs2a.fit(X_train, y_train)\n",
    "\n",
    "print(f'gs1 Best GridSearch (cv = 5) Score: {gs1.best_score_}')\n",
    "print(f'gs1a Best GridSearch (cv = 5) Score: {gs1a.best_score_}')\n",
    "print(f'gs2 Best GridSearch (cv = 5) Score: {gs2.best_score_}')\n",
    "print(f'gs2a Best GridSearch (cv = 5) Score: {gs2a.best_score_}')"
   ]
  },
  {
   "cell_type": "markdown",
   "metadata": {},
   "source": [
    "## Best Model:\n",
    "- Lemmatizing\n",
    "- TfidfVectorize\n",
    "- Logistic Regression Model"
   ]
  },
  {
   "cell_type": "code",
   "execution_count": 39,
   "metadata": {},
   "outputs": [
    {
     "name": "stdout",
     "output_type": "stream",
     "text": [
      "Best GridSearch (cv = 5) Score: 0.637101811367895\n",
      "Best model's score on Train: 0.787632729544035\n",
      "Best model's score on Test: 0.6591760299625468\n"
     ]
    }
   ],
   "source": [
    "print(f'Best GridSearch (cv = 5) Score: {gs1a.best_score_}')\n",
    "print(f'Best model\\'s score on Train: {gs1a.best_estimator_.score(X_train, y_train)}')\n",
    "print(f'Best model\\'s score on Test: {gs1a.best_estimator_.score(X_test, y_test)}')\n",
    "\n",
    "gs1a_model = gs1a.best_estimator_"
   ]
  },
  {
   "cell_type": "code",
   "execution_count": 40,
   "metadata": {},
   "outputs": [
    {
     "data": {
      "text/html": [
       "<div>\n",
       "<style scoped>\n",
       "    .dataframe tbody tr th:only-of-type {\n",
       "        vertical-align: middle;\n",
       "    }\n",
       "\n",
       "    .dataframe tbody tr th {\n",
       "        vertical-align: top;\n",
       "    }\n",
       "\n",
       "    .dataframe thead th {\n",
       "        text-align: right;\n",
       "    }\n",
       "</style>\n",
       "<table border=\"1\" class=\"dataframe\">\n",
       "  <thead>\n",
       "    <tr style=\"text-align: right;\">\n",
       "      <th></th>\n",
       "      <th>counts</th>\n",
       "    </tr>\n",
       "  </thead>\n",
       "  <tbody>\n",
       "    <tr>\n",
       "      <td>credit card</td>\n",
       "      <td>23.251170</td>\n",
       "    </tr>\n",
       "    <tr>\n",
       "      <td>phone number</td>\n",
       "      <td>22.740518</td>\n",
       "    </tr>\n",
       "    <tr>\n",
       "      <td>get ride</td>\n",
       "      <td>22.303582</td>\n",
       "    </tr>\n",
       "  </tbody>\n",
       "</table>\n",
       "</div>"
      ],
      "text/plain": [
       "                 counts\n",
       "credit card   23.251170\n",
       "phone number  22.740518\n",
       "get ride      22.303582"
      ]
     },
     "execution_count": 40,
     "metadata": {},
     "output_type": "execute_result"
    }
   ],
   "source": [
    "# Features used in the best model\n",
    "feature_names = gs1a_model.named_steps['tfidf'].get_feature_names()\n",
    "\n",
    "\n",
    "# Making dataframe with matrix & feature names\n",
    "term_matrix = gs1a_model.named_steps['tfidf'].fit_transform(X_train)\n",
    "\n",
    "term_df = pd.DataFrame(term_matrix.toarray(),\n",
    "                      columns = feature_names)\n",
    "\n",
    "term_df['target'] = y_train.values\n",
    "\n",
    "freq_dict = {word: term_df[word].sum() for word in feature_names}\n",
    "\n",
    "\n",
    "# Making dataframe with features and sum of counts\n",
    "freq_df = pd.DataFrame(freq_dict, index = ['counts'])\n",
    "freq_df = freq_df.T\n",
    "freq_df.sort_values('counts', ascending = False).head(3)"
   ]
  },
  {
   "cell_type": "code",
   "execution_count": 161,
   "metadata": {
    "scrolled": true
   },
   "outputs": [
    {
     "data": {
      "image/png": "[encoded data removed]",
      "text/plain": [
       "<Figure size 1440x864 with 2 Axes>"
      ]
     },
     "metadata": {},
     "output_type": "display_data"
    }
   ],
   "source": [
    "# Heatmap of top occurring 10 features\n",
    "top_10 = list(freq_df.sort_values('counts', ascending = False).head(10).index)\n",
    "top_10.append('target')\n",
    "\n",
    "corr = term_df[top_10].corr()\n",
    "\n",
    "plt.figure(figsize = (20,12))\n",
    "ax = sns.heatmap(corr[['target']], annot=True, cmap = 'coolwarm')\n",
    "\n",
    "ax.set_ylabel('Feature', fontsize = 25.0)\n",
    "ax.set_title('Correlation of Feature & Target', fontsize = 40)\n",
    "ax.tick_params(axis=\"x\", labelsize=20)\n",
    "ax.tick_params(axis=\"y\", labelsize=20, labelrotation=0)\n",
    "sns.set(font_scale=1);"
   ]
  },
  {
   "cell_type": "markdown",
   "metadata": {},
   "source": [
    "This heatmap shows the correlation of the top 10 occurring features in the entire dataframe. All these features have a correlation of around 0 to the target."
   ]
  },
  {
   "cell_type": "markdown",
   "metadata": {},
   "source": [
    "### ROC/AUC Curve"
   ]
  },
  {
   "cell_type": "code",
   "execution_count": 42,
   "metadata": {},
   "outputs": [],
   "source": [
    "# Getting predictions\n",
    "\n",
    "preds = gs1a_model.predict(X_test)"
   ]
  },
  {
   "cell_type": "code",
   "execution_count": 43,
   "metadata": {},
   "outputs": [],
   "source": [
    "# Confusion Matrix\n",
    "\n",
    "tn, fp, fn, tp = confusion_matrix(y_test, preds).ravel()"
   ]
  },
  {
   "cell_type": "code",
   "execution_count": 44,
   "metadata": {},
   "outputs": [
    {
     "data": {
      "text/plain": [
       "0.3203125"
      ]
     },
     "execution_count": 44,
     "metadata": {},
     "output_type": "execute_result"
    }
   ],
   "source": [
    "# False Positive Rate\n",
    "# fp / fp + tn\n",
    "\n",
    "fp / (fp+tn)"
   ]
  },
  {
   "cell_type": "code",
   "execution_count": 45,
   "metadata": {},
   "outputs": [
    {
     "data": {
      "text/plain": [
       "0.6402877697841727"
      ]
     },
     "execution_count": 45,
     "metadata": {},
     "output_type": "execute_result"
    }
   ],
   "source": [
    "# True Positive Rate\n",
    "# tp / tp + fn\n",
    "\n",
    "tp / (tp + fn)"
   ]
  },
  {
   "cell_type": "code",
   "execution_count": 46,
   "metadata": {},
   "outputs": [],
   "source": [
    "# Another way to get FPR and TPR\n",
    "\n",
    "fpr, tpr, threshold = roc_curve(y_test, preds)"
   ]
  },
  {
   "cell_type": "code",
   "execution_count": 47,
   "metadata": {},
   "outputs": [
    {
     "data": {
      "text/plain": [
       "0.66"
      ]
     },
     "execution_count": 47,
     "metadata": {},
     "output_type": "execute_result"
    }
   ],
   "source": [
    "# AUC\n",
    "\n",
    "roc_auc = auc(fpr, tpr)\n",
    "roc_auc.round(2)"
   ]
  },
  {
   "cell_type": "code",
   "execution_count": 48,
   "metadata": {
    "scrolled": true
   },
   "outputs": [
    {
     "data": {
      "image/png": "[encoded data removed]",
      "text/plain": [
       "<Figure size 432x288 with 1 Axes>"
      ]
     },
     "metadata": {
      "needs_background": "light"
     },
     "output_type": "display_data"
    }
   ],
   "source": [
    "# https://stackoverflow.com/questions/25009284/how-to-plot-roc-curve-in-python\n",
    "\n",
    "plt.title('ROC/AUC Curve')\n",
    "plt.plot(fpr, tpr, color = 'blue', label = 'AUC = %0.2f' % roc_auc)\n",
    "plt.legend(loc = 'lower right')\n",
    "plt.plot([0, 1], [0, 1], color = 'red', linestyle = '--')\n",
    "plt.xlim([0, 1])\n",
    "plt.ylim([0, 1])\n",
    "plt.ylabel('True Positive Rate')\n",
    "plt.xlabel('False Positive Rate');"
   ]
  },
  {
   "cell_type": "markdown",
   "metadata": {},
   "source": [
    "This ROC/AUC curve is for one false positive rate and true positive rate at the 50% threshold. The model is better than a 50/50 coin toss but it's not that great overall. False positives occur at almost a 40% rate."
   ]
  },
  {
   "cell_type": "code",
   "execution_count": 49,
   "metadata": {},
   "outputs": [],
   "source": [
    "# Top Uber Correlations\n",
    "top5_corr = term_df.corr().sort_values('target', ascending = False).head(5)"
   ]
  },
  {
   "cell_type": "code",
   "execution_count": 50,
   "metadata": {},
   "outputs": [],
   "source": [
    "# Top Lyft Correlations\n",
    "low5_corr = term_df.corr().sort_values('target', ascending = True).head(5)"
   ]
  },
  {
   "cell_type": "code",
   "execution_count": 160,
   "metadata": {},
   "outputs": [
    {
     "data": {
      "image/png": "[encoded data removed]",
      "text/plain": [
       "<Figure size 1440x864 with 2 Axes>"
      ]
     },
     "metadata": {},
     "output_type": "display_data"
    }
   ],
   "source": [
    "# Features most correlated with Uber\n",
    "\n",
    "plt.figure(figsize = (20,12))\n",
    "ax = sns.heatmap(top5_corr[['target']], annot=True, cmap = 'coolwarm')\n",
    "\n",
    "\n",
    "ax.set_ylabel('Feature', fontsize = 25.0)\n",
    "ax.set_title('Correlation of Feature & Target', fontsize = 40)\n",
    "ax.tick_params(axis=\"x\", labelsize=20)\n",
    "ax.tick_params(axis=\"y\", labelsize=20, labelrotation=0)\n",
    "sns.set(font_scale=4);"
   ]
  },
  {
   "cell_type": "markdown",
   "metadata": {},
   "source": [
    "This heatmap shows the top 5 correlation values and their features. These features are the ones that are most correlated to Uber.\n",
    "\n",
    "Note that the \"top\" isn't really that high."
   ]
  },
  {
   "cell_type": "code",
   "execution_count": 148,
   "metadata": {},
   "outputs": [
    {
     "data": {
      "image/png": "[encoded data removed]",
      "text/plain": [
       "<Figure size 1440x864 with 2 Axes>"
      ]
     },
     "metadata": {},
     "output_type": "display_data"
    }
   ],
   "source": [
    "# Features most correlated with Lyft\n",
    "\n",
    "plt.figure(figsize = (20,12))\n",
    "ax = sns.heatmap(low5_corr[['target']], annot=True, cmap = 'coolwarm')\n",
    "\n",
    "ax.set_ylabel('Feature', fontsize = 25.0)\n",
    "ax.set_title('Correlation of Feature & Target', fontsize = 40)\n",
    "ax.tick_params(axis=\"x\", labelsize=20)\n",
    "ax.tick_params(axis=\"y\", labelsize=20, labelrotation=0)\n",
    "sns.set(font_scale=1);"
   ]
  },
  {
   "cell_type": "markdown",
   "metadata": {},
   "source": [
    "This heatmap shows the lowest 5 correlation values and their features. These features are the ones that are most correlated to Lyft.\n",
    "\n",
    "Note that the \"lowest\" isn't really that low."
   ]
  },
  {
   "cell_type": "markdown",
   "metadata": {},
   "source": [
    "### Sentiment Analysis\n",
    "- Polarity scores have proven to be inaccurate.\n",
    "    - A lot negative posts are read as positive and vice versa.\n",
    "- **Will not be included in final conclusions, but is presented here to show that it has been considered**"
   ]
  },
  {
   "cell_type": "code",
   "execution_count": 53,
   "metadata": {},
   "outputs": [],
   "source": [
    "# Instantiating sentiment analyzer\n",
    "sia = SentimentIntensityAnalyzer()"
   ]
  },
  {
   "cell_type": "code",
   "execution_count": 54,
   "metadata": {},
   "outputs": [],
   "source": [
    "# Functions to get certain attributes of the polarity scores.\n",
    "\n",
    "def get_compound(text):\n",
    "    return sia.polarity_scores(text)['compound']\n",
    "\n",
    "def get_neg(text):\n",
    "    return sia.polarity_scores(text)['neg']\n",
    "\n",
    "def get_pos(text):\n",
    "    return sia.polarity_scores(text)['pos']"
   ]
  },
  {
   "cell_type": "code",
   "execution_count": 55,
   "metadata": {},
   "outputs": [],
   "source": [
    "# Compound scores of all submissions for comments ONLY\n",
    "# added to dataframe\n",
    "\n",
    "master_df['sentiment_comments'] = master_df['comments'].apply(get_compound)"
   ]
  },
  {
   "cell_type": "code",
   "execution_count": 56,
   "metadata": {},
   "outputs": [],
   "source": [
    "# Uber compound scores for comments only\n",
    "\n",
    "uber_sentiment_comments_df = master_df.loc[(master_df['subreddit'] == 'uber') & (master_df['sentiment_comments']),\n",
    "             ['subreddit', 'sentiment_comments']]"
   ]
  },
  {
   "cell_type": "code",
   "execution_count": 57,
   "metadata": {},
   "outputs": [],
   "source": [
    "# Lyft compound scores of comments only\n",
    "lyft_sentiment_comments_df = master_df.loc[(master_df['subreddit'] == 'Lyft') & (master_df['sentiment_comments']),\n",
    "             ['subreddit', 'sentiment_comments']]"
   ]
  },
  {
   "cell_type": "code",
   "execution_count": 58,
   "metadata": {
    "scrolled": true
   },
   "outputs": [
    {
     "data": {
      "image/png": "[encoded data removed]",
      "text/plain": [
       "<Figure size 504x360 with 1 Axes>"
      ]
     },
     "metadata": {
      "needs_background": "light"
     },
     "output_type": "display_data"
    }
   ],
   "source": [
    "plt.figure(figsize=(7,5))\n",
    "plt.hist(uber_sentiment_comments_df['sentiment_comments'],\n",
    "        color = 'gray')\n",
    "\n",
    "plt.title('[Uber] Sentiment of Comment Text', fontsize=20)\n",
    "plt.xlabel('Compound Value', fontsize = 15)\n",
    "plt.ylabel('Frequency', fontsize = 15)\n",
    "plt.tick_params(axis = 'x', labelsize = 12)\n",
    "plt.tick_params(axis = 'y', labelsize = 12);"
   ]
  },
  {
   "cell_type": "markdown",
   "metadata": {},
   "source": [
    "Frequency of compound polarity scores of only the comment texts of subreddits that belong to Uber. These are pretty inaccurate because after going on Reddit and reading them, they are actually negative."
   ]
  },
  {
   "cell_type": "code",
   "execution_count": 59,
   "metadata": {
    "scrolled": true
   },
   "outputs": [
    {
     "data": {
      "image/png": "[encoded data removed]",
      "text/plain": [
       "<Figure size 504x360 with 1 Axes>"
      ]
     },
     "metadata": {
      "needs_background": "light"
     },
     "output_type": "display_data"
    }
   ],
   "source": [
    "plt.figure(figsize=(7,5))\n",
    "plt.hist(lyft_sentiment_comments_df['sentiment_comments'],\n",
    "        color = 'purple')\n",
    "\n",
    "plt.title('[Lyft] Sentiment of Comment Text', fontsize=20)\n",
    "plt.xlabel('Compound Value', fontsize = 15)\n",
    "plt.ylabel('Frequency', fontsize = 15)\n",
    "plt.tick_params(axis = 'x', labelsize = 12)\n",
    "plt.tick_params(axis = 'y', labelsize = 12);"
   ]
  },
  {
   "cell_type": "markdown",
   "metadata": {},
   "source": [
    "Frequency of compound polarity scores of only the **comment texts** of subreddits that belong to Lyft. These are pretty inaccurate because after going on Reddit and reading them, they are actually negative."
   ]
  },
  {
   "cell_type": "code",
   "execution_count": 60,
   "metadata": {},
   "outputs": [],
   "source": [
    "# Compound scores of body text ONLY\n",
    "# added to dataframe\n",
    "\n",
    "master_df['sentiment_body'] = master_df['body'].apply(get_compound)"
   ]
  },
  {
   "cell_type": "code",
   "execution_count": 61,
   "metadata": {},
   "outputs": [],
   "source": [
    "# Uber compound scores of body only\n",
    "uber_sentiment_body_df = master_df.loc[(master_df['subreddit'] == 'uber') & (master_df['sentiment_comments']),\n",
    "             ['subreddit', 'sentiment_body']]"
   ]
  },
  {
   "cell_type": "code",
   "execution_count": 62,
   "metadata": {},
   "outputs": [],
   "source": [
    "# Lyft compound scores of body only\n",
    "lyft_sentiment_body_df = master_df.loc[(master_df['subreddit'] == 'Lyft') & (master_df['sentiment_comments']),\n",
    "             ['subreddit', 'sentiment_body']]"
   ]
  },
  {
   "cell_type": "code",
   "execution_count": 63,
   "metadata": {
    "scrolled": true
   },
   "outputs": [
    {
     "data": {
      "image/png": "[encoded data removed]",
      "text/plain": [
       "<Figure size 504x360 with 1 Axes>"
      ]
     },
     "metadata": {
      "needs_background": "light"
     },
     "output_type": "display_data"
    }
   ],
   "source": [
    "plt.figure(figsize=(7,5))\n",
    "plt.hist(uber_sentiment_body_df['sentiment_body'],\n",
    "        color = 'gray')\n",
    "\n",
    "plt.title('[Uber] Sentiment of Body Text', fontsize=20)\n",
    "plt.xlabel('Compound Value', fontsize = 15)\n",
    "plt.ylabel('Frequency', fontsize = 15)\n",
    "plt.tick_params(axis = 'x', labelsize = 12)\n",
    "plt.tick_params(axis = 'y', labelsize = 12);"
   ]
  },
  {
   "cell_type": "markdown",
   "metadata": {},
   "source": [
    "Frequency of compound polarity scores of only the **body texts** of subreddits that belong to Uber. After getting terrible scores from the sentiment analysis for the comments, I am unsure how reliable these polarity scores are for my Subreddits."
   ]
  },
  {
   "cell_type": "code",
   "execution_count": 64,
   "metadata": {
    "scrolled": true
   },
   "outputs": [
    {
     "data": {
      "image/png": "[encoded data removed]",
      "text/plain": [
       "<Figure size 504x360 with 1 Axes>"
      ]
     },
     "metadata": {
      "needs_background": "light"
     },
     "output_type": "display_data"
    }
   ],
   "source": [
    "plt.figure(figsize=(7,5))\n",
    "plt.hist(lyft_sentiment_body_df['sentiment_body'],\n",
    "        color = 'purple')\n",
    "\n",
    "plt.title('[Lyft] Sentiment of Body Text', fontsize=20)\n",
    "plt.xlabel('Compound Value', fontsize = 15)\n",
    "plt.ylabel('Frequency', fontsize = 15)\n",
    "plt.tick_params(axis = 'x', labelsize = 12)\n",
    "plt.tick_params(axis = 'y', labelsize = 12);"
   ]
  },
  {
   "cell_type": "markdown",
   "metadata": {},
   "source": [
    "Frequency of compound polarity scores of only the **body texts** of subreddits that belong to Lyft. After getting terrible scores from the sentiment analysis for the comments, I am unsure how reliable these polarity scores are for my Subreddits."
   ]
  },
  {
   "cell_type": "markdown",
   "metadata": {},
   "source": [
    "### Inference"
   ]
  },
  {
   "cell_type": "code",
   "execution_count": 65,
   "metadata": {
    "scrolled": true
   },
   "outputs": [
    {
     "data": {
      "text/html": [
       "<div>\n",
       "<style scoped>\n",
       "    .dataframe tbody tr th:only-of-type {\n",
       "        vertical-align: middle;\n",
       "    }\n",
       "\n",
       "    .dataframe tbody tr th {\n",
       "        vertical-align: top;\n",
       "    }\n",
       "\n",
       "    .dataframe thead th {\n",
       "        text-align: right;\n",
       "    }\n",
       "</style>\n",
       "<table border=\"1\" class=\"dataframe\">\n",
       "  <thead>\n",
       "    <tr style=\"text-align: right;\">\n",
       "      <th></th>\n",
       "      <th>exp.coef</th>\n",
       "      <th>feature</th>\n",
       "    </tr>\n",
       "  </thead>\n",
       "  <tbody>\n",
       "    <tr>\n",
       "      <td>222</td>\n",
       "      <td>4.199912</td>\n",
       "      <td>long time</td>\n",
       "    </tr>\n",
       "    <tr>\n",
       "      <td>214</td>\n",
       "      <td>4.188884</td>\n",
       "      <td>license plate</td>\n",
       "    </tr>\n",
       "    <tr>\n",
       "      <td>55</td>\n",
       "      <td>3.867137</td>\n",
       "      <td>customer service</td>\n",
       "    </tr>\n",
       "  </tbody>\n",
       "</table>\n",
       "</div>"
      ],
      "text/plain": [
       "     exp.coef           feature\n",
       "222  4.199912         long time\n",
       "214  4.188884     license plate\n",
       "55   3.867137  customer service"
      ]
     },
     "execution_count": 65,
     "metadata": {},
     "output_type": "execute_result"
    }
   ],
   "source": [
    "# Creating dataframe of feature and exponentiated logreg model coefs\n",
    "\n",
    "best_model = {\n",
    "    'exp.coef': [],\n",
    "    'feature': [],\n",
    "}\n",
    "\n",
    "\n",
    "best_model_df = pd.DataFrame(best_model)\n",
    "\n",
    "best_model_df['exp.coef'] = list(np.exp(gs1a_model.named_steps['logreg'].coef_[0]))\n",
    "\n",
    "best_model_df['feature'] = gs1a_model.named_steps['tfidf'].get_feature_names()\n",
    "\n",
    "# Highest coefficient weights\n",
    "best_model_df.sort_values('exp.coef', ascending = False).head(3)"
   ]
  },
  {
   "cell_type": "code",
   "execution_count": 66,
   "metadata": {
    "scrolled": true
   },
   "outputs": [
    {
     "data": {
      "text/html": [
       "<div>\n",
       "<style scoped>\n",
       "    .dataframe tbody tr th:only-of-type {\n",
       "        vertical-align: middle;\n",
       "    }\n",
       "\n",
       "    .dataframe tbody tr th {\n",
       "        vertical-align: top;\n",
       "    }\n",
       "\n",
       "    .dataframe thead th {\n",
       "        text-align: right;\n",
       "    }\n",
       "</style>\n",
       "<table border=\"1\" class=\"dataframe\">\n",
       "  <thead>\n",
       "    <tr style=\"text-align: right;\">\n",
       "      <th></th>\n",
       "      <th>exp.coef</th>\n",
       "      <th>feature</th>\n",
       "    </tr>\n",
       "  </thead>\n",
       "  <tbody>\n",
       "    <tr>\n",
       "      <td>124</td>\n",
       "      <td>0.121077</td>\n",
       "      <td>express drive</td>\n",
       "    </tr>\n",
       "    <tr>\n",
       "      <td>347</td>\n",
       "      <td>0.159133</td>\n",
       "      <td>prime time</td>\n",
       "    </tr>\n",
       "    <tr>\n",
       "      <td>268</td>\n",
       "      <td>0.192240</td>\n",
       "      <td>new driver</td>\n",
       "    </tr>\n",
       "  </tbody>\n",
       "</table>\n",
       "</div>"
      ],
      "text/plain": [
       "     exp.coef        feature\n",
       "124  0.121077  express drive\n",
       "347  0.159133     prime time\n",
       "268  0.192240     new driver"
      ]
     },
     "execution_count": 66,
     "metadata": {},
     "output_type": "execute_result"
    }
   ],
   "source": [
    "# Lowest coefficient weights\n",
    "best_model_df.sort_values('exp.coef', ascending = True).head(3)"
   ]
  },
  {
   "cell_type": "code",
   "execution_count": 67,
   "metadata": {},
   "outputs": [],
   "source": [
    "# Features with logreg exp.coef weights between 0.9>x>1.1\n",
    "# potential stop words\n",
    "\n",
    "stop_features = best_model_df.loc[(best_model_df['exp.coef'] > 0.9) & (best_model_df['exp.coef'] < 1.1)]"
   ]
  },
  {
   "cell_type": "code",
   "execution_count": 68,
   "metadata": {},
   "outputs": [
    {
     "data": {
      "text/plain": [
       "69"
      ]
     },
     "execution_count": 68,
     "metadata": {},
     "output_type": "execute_result"
    }
   ],
   "source": [
    "# creating list of potential stop words\n",
    "# adding these words to custom stopwords decreased accuracy of model\n",
    "\n",
    "sw_to_add = list(stop_features.sort_values('exp.coef')['feature'])\n",
    "len(sw_to_add)"
   ]
  },
  {
   "cell_type": "code",
   "execution_count": 69,
   "metadata": {
    "scrolled": true
   },
   "outputs": [],
   "source": [
    "# Sum of TFIDF Matrix turned into dataframe\n",
    "\n",
    "best_model_sum = term_df.groupby('target').sum().T"
   ]
  },
  {
   "cell_type": "code",
   "execution_count": 70,
   "metadata": {},
   "outputs": [],
   "source": [
    "# Resetting index to numbers\n",
    "\n",
    "best_model_sum.reset_index(inplace = True)"
   ]
  },
  {
   "cell_type": "code",
   "execution_count": 71,
   "metadata": {},
   "outputs": [],
   "source": [
    "# Renaming columns \n",
    "\n",
    "best_model_sum.columns = ['feature', 0, 1]"
   ]
  },
  {
   "cell_type": "code",
   "execution_count": 72,
   "metadata": {},
   "outputs": [],
   "source": [
    "# Dataframe with matrix sums\n",
    "\n",
    "best_model_sum = best_model_sum.sort_values('feature')"
   ]
  },
  {
   "cell_type": "code",
   "execution_count": 73,
   "metadata": {},
   "outputs": [],
   "source": [
    "# Dataframe with coefs\n",
    "best_model_df = best_model_df.sort_values('feature')"
   ]
  },
  {
   "cell_type": "code",
   "execution_count": 74,
   "metadata": {},
   "outputs": [],
   "source": [
    "# Combining the two dataframes\n",
    "feature_prop_coef = best_model_sum.merge(best_model_df, left_on = 'feature', right_on = 'feature')"
   ]
  },
  {
   "cell_type": "code",
   "execution_count": 94,
   "metadata": {
    "scrolled": true
   },
   "outputs": [
    {
     "data": {
      "text/html": [
       "<div>\n",
       "<style scoped>\n",
       "    .dataframe tbody tr th:only-of-type {\n",
       "        vertical-align: middle;\n",
       "    }\n",
       "\n",
       "    .dataframe tbody tr th {\n",
       "        vertical-align: top;\n",
       "    }\n",
       "\n",
       "    .dataframe thead th {\n",
       "        text-align: right;\n",
       "    }\n",
       "</style>\n",
       "<table border=\"1\" class=\"dataframe\">\n",
       "  <thead>\n",
       "    <tr style=\"text-align: right;\">\n",
       "      <th></th>\n",
       "      <th>feature</th>\n",
       "      <th>0</th>\n",
       "      <th>1</th>\n",
       "      <th>exp.coef</th>\n",
       "    </tr>\n",
       "  </thead>\n",
       "  <tbody>\n",
       "    <tr>\n",
       "      <td>222</td>\n",
       "      <td>long time</td>\n",
       "      <td>0.761482</td>\n",
       "      <td>6.097763</td>\n",
       "      <td>4.199912</td>\n",
       "    </tr>\n",
       "    <tr>\n",
       "      <td>214</td>\n",
       "      <td>license plate</td>\n",
       "      <td>3.030606</td>\n",
       "      <td>10.910283</td>\n",
       "      <td>4.188884</td>\n",
       "    </tr>\n",
       "    <tr>\n",
       "      <td>55</td>\n",
       "      <td>customer service</td>\n",
       "      <td>4.954755</td>\n",
       "      <td>14.683183</td>\n",
       "      <td>3.867137</td>\n",
       "    </tr>\n",
       "  </tbody>\n",
       "</table>\n",
       "</div>"
      ],
      "text/plain": [
       "              feature         0          1  exp.coef\n",
       "222         long time  0.761482   6.097763  4.199912\n",
       "214     license plate  3.030606  10.910283  4.188884\n",
       "55   customer service  4.954755  14.683183  3.867137"
      ]
     },
     "execution_count": 94,
     "metadata": {},
     "output_type": "execute_result"
    }
   ],
   "source": [
    "# Grabbed features with most positive exp.coef weights\n",
    "# head(3) added for Git viewability\n",
    "feature_prop_coef[feature_prop_coef['exp.coef'] > 2].sort_values('exp.coef', ascending = False).head(3)"
   ]
  },
  {
   "cell_type": "code",
   "execution_count": 76,
   "metadata": {},
   "outputs": [],
   "source": [
    "# 14 interesting uber features\n",
    "uber_interesting = ['long time', 'license plate', 'customer service', 'driver make','driver get','driver take','phone number','payment method','schedule ride','food delivery','star rating','bad rating','pickup point','tip tip']"
   ]
  },
  {
   "cell_type": "code",
   "execution_count": 77,
   "metadata": {},
   "outputs": [],
   "source": [
    "# Making dataframe with interesting terms\n",
    "\n",
    "coef_positive_df = feature_prop_coef[feature_prop_coef['feature'].isin(uber_interesting)]"
   ]
  },
  {
   "cell_type": "code",
   "execution_count": 103,
   "metadata": {
    "scrolled": true
   },
   "outputs": [
    {
     "data": {
      "image/png": "[encoded data removed]",
      "text/plain": [
       "<Figure size 576x360 with 1 Axes>"
      ]
     },
     "metadata": {
      "needs_background": "light"
     },
     "output_type": "display_data"
    }
   ],
   "source": [
    "plt.figure(figsize=(8,5))\n",
    "plt.barh(width = coef_positive_df.sort_values('exp.coef', ascending = True)['exp.coef'],\n",
    "         y = coef_positive_df['feature'],\n",
    "        color='gray')\n",
    "\n",
    "plt.title('Features with Coefficient Weights >2.0 [Uber]', fontsize=20)\n",
    "plt.xlabel('Coefficient Weight', fontsize = 15)\n",
    "plt.ylabel('Feature', fontsize = 15)\n",
    "plt.tick_params(axis = 'x', labelsize = 12)\n",
    "plt.tick_params(axis = 'y', labelsize = 12);"
   ]
  },
  {
   "cell_type": "markdown",
   "metadata": {},
   "source": [
    "The bar graph displays some interesting bi-grams that have a coefficient weight greater than 2. \"tip\" and \"star\" makes the probability around 4x as likely for the target to be Uber.  \n",
    "\n",
    "Passengers are asking if they should tip, drivers complaining about not getting tips. People talking about different things that may/may not affect their rating as a rider/driver."
   ]
  },
  {
   "cell_type": "code",
   "execution_count": 93,
   "metadata": {
    "scrolled": true
   },
   "outputs": [
    {
     "data": {
      "text/html": [
       "<div>\n",
       "<style scoped>\n",
       "    .dataframe tbody tr th:only-of-type {\n",
       "        vertical-align: middle;\n",
       "    }\n",
       "\n",
       "    .dataframe tbody tr th {\n",
       "        vertical-align: top;\n",
       "    }\n",
       "\n",
       "    .dataframe thead th {\n",
       "        text-align: right;\n",
       "    }\n",
       "</style>\n",
       "<table border=\"1\" class=\"dataframe\">\n",
       "  <thead>\n",
       "    <tr style=\"text-align: right;\">\n",
       "      <th></th>\n",
       "      <th>feature</th>\n",
       "      <th>0</th>\n",
       "      <th>1</th>\n",
       "      <th>exp.coef</th>\n",
       "    </tr>\n",
       "  </thead>\n",
       "  <tbody>\n",
       "    <tr>\n",
       "      <td>124</td>\n",
       "      <td>express drive</td>\n",
       "      <td>14.822742</td>\n",
       "      <td>0.450318</td>\n",
       "      <td>0.121077</td>\n",
       "    </tr>\n",
       "    <tr>\n",
       "      <td>347</td>\n",
       "      <td>prime time</td>\n",
       "      <td>8.867941</td>\n",
       "      <td>0.242066</td>\n",
       "      <td>0.159133</td>\n",
       "    </tr>\n",
       "    <tr>\n",
       "      <td>268</td>\n",
       "      <td>new driver</td>\n",
       "      <td>10.881708</td>\n",
       "      <td>2.203045</td>\n",
       "      <td>0.192240</td>\n",
       "    </tr>\n",
       "  </tbody>\n",
       "</table>\n",
       "</div>"
      ],
      "text/plain": [
       "           feature          0         1  exp.coef\n",
       "124  express drive  14.822742  0.450318  0.121077\n",
       "347     prime time   8.867941  0.242066  0.159133\n",
       "268     new driver  10.881708  2.203045  0.192240"
      ]
     },
     "execution_count": 93,
     "metadata": {},
     "output_type": "execute_result"
    }
   ],
   "source": [
    "# Grabbed features with lowest exp.coef weights\n",
    "# head(3) added for Git viewability\n",
    "\n",
    "feature_prop_coef[feature_prop_coef['exp.coef'] < 0.5].sort_values('exp.coef', ascending = True).head(3)"
   ]
  },
  {
   "cell_type": "code",
   "execution_count": 80,
   "metadata": {},
   "outputs": [],
   "source": [
    "# 12 interesting Lyft features\n",
    "lyft_interesting = ['express drive', 'prime time', 'new driver', 'background check', 'shared ride', 'ride history', 'insurance company', 'accept ride', 'ride share', 'san diego','los angeles','no show']"
   ]
  },
  {
   "cell_type": "code",
   "execution_count": 81,
   "metadata": {},
   "outputs": [],
   "source": [
    "# Making dataframe with interesting terms\n",
    "coef_negative_df = feature_prop_coef[feature_prop_coef['feature'].isin(lyft_interesting)]"
   ]
  },
  {
   "cell_type": "code",
   "execution_count": 105,
   "metadata": {},
   "outputs": [
    {
     "data": {
      "image/png": "[encoded data removed]",
      "text/plain": [
       "<Figure size 576x360 with 1 Axes>"
      ]
     },
     "metadata": {
      "needs_background": "light"
     },
     "output_type": "display_data"
    }
   ],
   "source": [
    "plt.figure(figsize=(8,5))\n",
    "plt.barh(width = coef_negative_df.sort_values('exp.coef', ascending = False)['exp.coef'],\n",
    "         y = coef_negative_df['feature'],\n",
    "        color = 'purple')\n",
    "\n",
    "plt.title('Features with Coefficient Weights <0.5 [Lyft]', fontsize=20)\n",
    "plt.xlabel('Coefficient Weight', fontsize = 15)\n",
    "plt.ylabel('Feature', fontsize = 15)\n",
    "plt.tick_params(axis = 'x', labelsize = 12)\n",
    "plt.tick_params(axis = 'y', labelsize = 12);"
   ]
  },
  {
   "cell_type": "markdown",
   "metadata": {},
   "source": [
    "The bar graph displays some interesting bi-grams that have a coefficient weight less than 0.5. \"shared ride\" and \"san diego\" makes the probability around 0.1x as likely for the target to be Uber (so more likely to be Lyft).\n",
    "\n",
    "People are complaining about shared rides (poor route, adds a lot of time, desire to turn it off as a driver, etc.). A lot of the people talking on the Lyft subreddit are drivers/riders in San Diego."
   ]
  },
  {
   "cell_type": "code",
   "execution_count": 106,
   "metadata": {},
   "outputs": [
    {
     "data": {
      "text/html": [
       "<div>\n",
       "<style scoped>\n",
       "    .dataframe tbody tr th:only-of-type {\n",
       "        vertical-align: middle;\n",
       "    }\n",
       "\n",
       "    .dataframe tbody tr th {\n",
       "        vertical-align: top;\n",
       "    }\n",
       "\n",
       "    .dataframe thead th {\n",
       "        text-align: right;\n",
       "    }\n",
       "</style>\n",
       "<table border=\"1\" class=\"dataframe\">\n",
       "  <thead>\n",
       "    <tr style=\"text-align: right;\">\n",
       "      <th></th>\n",
       "      <th>feature</th>\n",
       "      <th>0</th>\n",
       "      <th>1</th>\n",
       "      <th>exp.coef</th>\n",
       "    </tr>\n",
       "  </thead>\n",
       "  <tbody>\n",
       "    <tr>\n",
       "      <td>18</td>\n",
       "      <td>app not</td>\n",
       "      <td>4.530065</td>\n",
       "      <td>4.222069</td>\n",
       "      <td>1.025363</td>\n",
       "    </tr>\n",
       "    <tr>\n",
       "      <td>19</td>\n",
       "      <td>ask driver</td>\n",
       "      <td>2.569543</td>\n",
       "      <td>2.776491</td>\n",
       "      <td>0.955676</td>\n",
       "    </tr>\n",
       "    <tr>\n",
       "      <td>24</td>\n",
       "      <td>bad driver</td>\n",
       "      <td>2.098827</td>\n",
       "      <td>1.872236</td>\n",
       "      <td>1.053644</td>\n",
       "    </tr>\n",
       "  </tbody>\n",
       "</table>\n",
       "</div>"
      ],
      "text/plain": [
       "       feature         0         1  exp.coef\n",
       "18     app not  4.530065  4.222069  1.025363\n",
       "19  ask driver  2.569543  2.776491  0.955676\n",
       "24  bad driver  2.098827  1.872236  1.053644"
      ]
     },
     "execution_count": 106,
     "metadata": {},
     "output_type": "execute_result"
    }
   ],
   "source": [
    "# Grabbed features with exp.coef weights between 0.9 and 1.1\n",
    "# head(3) added for Git viewability--there's 62 rows total.\n",
    "feature_prop_coef[(feature_prop_coef['exp.coef'] > 0.9) & (feature_prop_coef['exp.coef'] < 1.1)].head(3)"
   ]
  },
  {
   "cell_type": "code",
   "execution_count": 116,
   "metadata": {},
   "outputs": [],
   "source": [
    "# 10 interesting feature with 0.9>exp.coef>1.1\n",
    "interesting = ['app not', 'contact support', 'dispute charge', 'every ride', 'first ride','get free','pickup location', 'ride airport', 'saturday night', 'tip get']"
   ]
  },
  {
   "cell_type": "code",
   "execution_count": 117,
   "metadata": {},
   "outputs": [],
   "source": [
    "# Making dataframe with interesting terms\n",
    "coef_1_df = feature_prop_coef[feature_prop_coef['feature'].isin(interesting)]"
   ]
  },
  {
   "cell_type": "code",
   "execution_count": 118,
   "metadata": {},
   "outputs": [
    {
     "data": {
      "image/png": "[encoded data removed]",
      "text/plain": [
       "<Figure size 576x360 with 1 Axes>"
      ]
     },
     "metadata": {
      "needs_background": "light"
     },
     "output_type": "display_data"
    }
   ],
   "source": [
    "plt.figure(figsize=(8,5))\n",
    "plt.barh(width = coef_1_df.sort_values('exp.coef',ascending=False)['exp.coef'],\n",
    "         y = coef_1_df['feature'])\n",
    "\n",
    "plt.title('Features with Coefficient Weights ~1.0', fontsize=20)\n",
    "plt.xlabel('Coefficient Weight', fontsize = 15)\n",
    "plt.ylabel('Feature', fontsize = 15)\n",
    "plt.tick_params(axis = 'x', labelsize = 12)\n",
    "plt.tick_params(axis = 'y', labelsize = 12);"
   ]
  },
  {
   "cell_type": "markdown",
   "metadata": {},
   "source": [
    "The bar graph displays some interesting bi-grams that have a coefficient weight around 1. \"pickup location\" and \"contact support\" doesn't change the probability for the target to be Uber/Lyft, meaning these words are commonly used in both Subreddits at the same frequency.\n",
    "\n",
    "Drivers complain about riders setting bad pickup locations.\n",
    "A lot of people are complaining about the their experience with customer support and some people are asking how to contact them.\n",
    "\n"
   ]
  },
  {
   "cell_type": "markdown",
   "metadata": {},
   "source": [
    "### Bi-grams Stopwords"
   ]
  },
  {
   "cell_type": "code",
   "execution_count": 88,
   "metadata": {},
   "outputs": [],
   "source": [
    "bi_gram_stop_ls = ['not enough',\n",
    " 'make sense',\n",
    " 'driver work',\n",
    " 'every time',\n",
    " 'ride never',\n",
    " 'look like',\n",
    " 'one day',\n",
    " 'ride ha',\n",
    " 'told wa',\n",
    " 'see driver',\n",
    " 'driver going',\n",
    " 'keep mind',\n",
    " 'not driver',\n",
    " 'wait minute',\n",
    " 'dispute charge',\n",
    " 'want drive',\n",
    " 'driver go',\n",
    " 'keep getting',\n",
    " 'driver one',\n",
    " 'ride airport',\n",
    " 'always get',\n",
    " 'last month',\n",
    " 'next day',\n",
    " 'lot time',\n",
    " 'ask driver',\n",
    " 'get back',\n",
    " 'go home',\n",
    " 'driver see',\n",
    " 'rider driver',\n",
    " 'keep driving',\n",
    " 'let know',\n",
    " 'doe not',\n",
    " 'call support',\n",
    " 'tip driver',\n",
    " 'http help',\n",
    " 'rental car',\n",
    " 'drive car',\n",
    " 'san francisco',\n",
    " 'wa hour',\n",
    " 'driver wa',\n",
    " 'one ha',\n",
    " 'not one',\n",
    " 'driver always',\n",
    " 'tip get',\n",
    " 'no need',\n",
    " 'want get',\n",
    " 'get better',\n",
    " 'complete ride',\n",
    " 'wa wa',\n",
    " 'way get',\n",
    " 'know not',\n",
    " 'doe anyve',\n",
    " 'stopped driving',\n",
    " 'couple time',\n",
    " 'way back',\n",
    " 'got charged',\n",
    " 'hour ride',\n",
    " 'last week',\n",
    " 'wa still',\n",
    " 'say driver',\n",
    " 'pay driver',\n",
    " 'ride wa',\n",
    " 'ride one',\n",
    " 'could not',\n",
    " 'mile away',\n",
    " 'driver would',\n",
    " 'never used',\n",
    " 'not like',\n",
    " 'say no',\n",
    " 'no driver',\n",
    " 'get driver',\n",
    " 'pretty much',\n",
    " 'tell driver',\n",
    " 'every ride',\n",
    " 'someone else',\n",
    " 'not much',\n",
    " 'driver think',\n",
    " 'saturday night',\n",
    " 'would not',\n",
    " 'would like',\n",
    " 'said no',\n",
    " 'many time',\n",
    " 'ride would',\n",
    " 'best way',\n",
    " 'going get',\n",
    " 'start ride',\n",
    " 'something like',\n",
    " 'going back',\n",
    " 'let driver',\n",
    " 'pickup location',\n",
    " 'get home',\n",
    " 'not going',\n",
    " 'app not',\n",
    " 'no reason',\n",
    " 'not get',\n",
    " 'driver never',\n",
    " 'way driver',\n",
    " 'try get',\n",
    " 'contact support',\n",
    " 'feel like',\n",
    " 'ride go',\n",
    " 'get another',\n",
    " 'bad driver',\n",
    " 'would make',\n",
    " 'wait time',\n",
    " 'ride request',\n",
    " 'not want',\n",
    " 'go ahead',\n",
    " 'one wa',\n",
    " 'driving car',\n",
    " 'get free',\n",
    " 'first ride',\n",
    " 'drive mile',\n",
    " 'request ride',\n",
    " 'car get',\n",
    " 'min ride',\n",
    " 'week ago',\n",
    " 'people get',\n",
    " 'driver want']"
   ]
  },
  {
   "cell_type": "code",
   "execution_count": 89,
   "metadata": {},
   "outputs": [],
   "source": [
    "# Removing stop words from preprocessed text\n",
    "# Making new column of preprocessed text w/o stopwords in it\n",
    "\n",
    "clean_post_list = []\n",
    "for post in master_df['alltxt_lemmatize']:\n",
    "    \n",
    "    clean_word_list = []\n",
    "    \n",
    "    for word in post.split(' '):\n",
    "        clean_word = lemmatizer.lemmatize(word).lower()\n",
    "        clean_word_list.append(clean_word)\n",
    "        joined_words = \" \".join(clean_word_list)\n",
    "        \n",
    "        for bi_gram in bi_gram_stop_ls:\n",
    "            joined_words = joined_words.replace(bi_gram, '')\n",
    "            \n",
    "    clean_post_list.append(joined_words)\n",
    "    \n",
    "master_df['best_model_stop_removed'] = clean_post_list"
   ]
  },
  {
   "cell_type": "code",
   "execution_count": 90,
   "metadata": {
    "scrolled": true
   },
   "outputs": [
    {
     "name": "stderr",
     "output_type": "stream",
     "text": [
      "/Users/Work/anaconda3/lib/python3.7/site-packages/sklearn/linear_model/logistic.py:433: FutureWarning: Default solver will be changed to 'lbfgs' in 0.22. Specify a solver to silence this warning.\n",
      "  FutureWarning)\n",
      "/Users/Work/anaconda3/lib/python3.7/site-packages/sklearn/linear_model/logistic.py:433: FutureWarning: Default solver will be changed to 'lbfgs' in 0.22. Specify a solver to silence this warning.\n",
      "  FutureWarning)\n"
     ]
    },
    {
     "name": "stdout",
     "output_type": "stream",
     "text": [
      "gs1 Best GridSearch (cv = 5) Score: 0.6383510306058713\n",
      "gs1a Best GridSearch (cv = 5) Score: 0.6570893191755153\n",
      "gs2 Best GridSearch (cv = 5) Score: 0.6252342286071205\n",
      "gs2a Best GridSearch (cv = 5) Score: 0.6339787632729544\n"
     ]
    }
   ],
   "source": [
    "# Remodeling best model with stopwords removed\n",
    "\n",
    "# Train-Test Splitting\n",
    "X = master_df['best_model_stop_removed']\n",
    "y = master_df['target']\n",
    "\n",
    "X_train, X_test, y_train, y_test = train_test_split(X,\n",
    "                                                    y,\n",
    "\n",
    "                                                    random_state=42)\n",
    "# Instantiating Pipelines\n",
    "pipe_cvecLR = Pipeline([\n",
    "    ('cvec', CountVectorizer()),\n",
    "    ('logreg', LogisticRegression())\n",
    "])\n",
    "\n",
    "pipe_tfidfLR = Pipeline([\n",
    "    ('tfidf', TfidfVectorizer()),\n",
    "    ('logreg', LogisticRegression())\n",
    "])\n",
    "\n",
    "pipe_cvecMNB = Pipeline([\n",
    "    ('cvec', CountVectorizer()),\n",
    "    ('multinb', MultinomialNB())\n",
    "])\n",
    "\n",
    "pipe_tfidfMNB = Pipeline([\n",
    "    ('tfidf', TfidfVectorizer()),\n",
    "    ('multinb', MultinomialNB())\n",
    "])\n",
    "\n",
    "\n",
    "\n",
    "\n",
    "# Pipe Parameters\n",
    "pipe_cvec_paramsNB = {\n",
    "    'cvec__max_features': [100, 500],\n",
    "    'cvec__stop_words': [custom_stopwords_ls, no_sw_ls],\n",
    "    'cvec__max_df': [0.9],\n",
    "    'cvec__min_df': [10],\n",
    "    'cvec__ngram_range': [(2,4)]\n",
    "}\n",
    "\n",
    "pipe_cvec_paramsLR = {\n",
    "    'cvec__max_features': [100, 500],\n",
    "    'cvec__stop_words': [custom_stopwords_ls, no_sw_ls],\n",
    "    'cvec__max_df': [0.9],\n",
    "    'cvec__min_df': [10],\n",
    "    'cvec__ngram_range': [(2,4)],\n",
    "#     'logreg__C': [10e-2,10e-3,10e-4,10e-5,10e-6,10e-7,10e-8,10e-9,10e-10,10e-11],\n",
    "#     'logreg__penalty': ['l1','l2'],\n",
    "}\n",
    "\n",
    "pipe_tfidf_paramsLR = {\n",
    "    'tfidf__max_features': [100, 500],\n",
    "    'tfidf__stop_words': [custom_stopwords_ls, no_sw_ls],\n",
    "    'tfidf__max_df': [0.9],\n",
    "    'tfidf__min_df': [10],\n",
    "    'tfidf__ngram_range': [(2,4)],\n",
    "#     'logreg__C': [10e-2,10e-3,10e-4,10e-5,10e-6,10e-7,10e-8,10e-9,10e-10,10e-11],\n",
    "#     'logreg__penalty': ['l1','l2']\n",
    "}\n",
    "\n",
    "pipe_tfidf_paramsNB = {\n",
    "    'tfidf__max_features': [100, 500],\n",
    "    'tfidf__stop_words': [custom_stopwords_ls, no_sw_ls],\n",
    "    'tfidf__max_df': [0.9],\n",
    "    'tfidf__min_df': [10],\n",
    "    'tfidf__ngram_range': [(2,4)]\n",
    "}\n",
    "\n",
    "\n",
    "# Instantiating GridSearches\n",
    "gs1 = GridSearchCV(pipe_cvecLR, pipe_cvec_paramsLR, cv = 5)\n",
    "gs1a = GridSearchCV(pipe_tfidfLR, pipe_tfidf_paramsLR, cv = 5)\n",
    "gs2 = GridSearchCV(pipe_cvecMNB, pipe_cvec_paramsNB, cv = 5)\n",
    "gs2a = GridSearchCV(pipe_tfidfMNB, pipe_tfidf_paramsNB, cv = 5)\n",
    "\n",
    "# Fitting 2 Logistic Regressions\n",
    "gs1.fit(X_train, y_train)\n",
    "gs1a.fit(X_train, y_train)\n",
    "\n",
    "\n",
    "# Fitting 2 Bernoulli Naive Bayes\n",
    "gs2.fit(X_train, y_train)\n",
    "gs2a.fit(X_train, y_train)\n",
    "\n",
    "print(f'gs1 Best GridSearch (cv = 5) Score: {gs1.best_score_}')\n",
    "print(f'gs1a Best GridSearch (cv = 5) Score: {gs1a.best_score_}')\n",
    "print(f'gs2 Best GridSearch (cv = 5) Score: {gs2.best_score_}')\n",
    "print(f'gs2a Best GridSearch (cv = 5) Score: {gs2a.best_score_}')"
   ]
  },
  {
   "cell_type": "code",
   "execution_count": 91,
   "metadata": {},
   "outputs": [
    {
     "data": {
      "text/plain": [
       "69"
      ]
     },
     "execution_count": 91,
     "metadata": {},
     "output_type": "execute_result"
    }
   ],
   "source": [
    "best_model = {\n",
    "    'exp.coef': [],\n",
    "    'feature': [],\n",
    "}\n",
    "\n",
    "\n",
    "best_model_df = pd.DataFrame(best_model)\n",
    "\n",
    "best_model_df['exp.coef'] = list(np.exp(gs1a_model.named_steps['logreg'].coef_[0]))\n",
    "\n",
    "best_model_df['feature'] = gs1a_model.named_steps['tfidf'].get_feature_names()\n",
    "\n",
    "\n",
    "\n",
    "\n",
    "\n",
    "# Features with logreg exp.coef weights between 0.9>x>1.1\n",
    "# potential stop words\n",
    "\n",
    "stop_features = best_model_df.loc[(best_model_df['exp.coef'] > 0.9) & (best_model_df['exp.coef'] < 1.1)]\n",
    "\n",
    "\n",
    "# creating list of potential stop words\n",
    "# adding these words to custom stopwords decreased accuracy of model\n",
    "\n",
    "sw_to_add = list(stop_features.sort_values('exp.coef')['feature'])\n",
    "len(sw_to_add)"
   ]
  },
  {
   "cell_type": "code",
   "execution_count": 92,
   "metadata": {},
   "outputs": [
    {
     "name": "stdout",
     "output_type": "stream",
     "text": [
      "Best GridSearch (cv = 5) Score: 0.6570893191755153\n",
      "Best model's score on Train: 0.7951280449718926\n",
      "Best model's score on Test: 0.6423220973782772\n"
     ]
    }
   ],
   "source": [
    "print(f'Best GridSearch (cv = 5) Score: {gs1a.best_score_}')\n",
    "print(f'Best model\\'s score on Train: {gs1a.best_estimator_.score(X_train, y_train)}')\n",
    "print(f'Best model\\'s score on Test: {gs1a.best_estimator_.score(X_test, y_test)}')\n",
    "\n",
    "gs1a_model = gs1a.best_estimator_"
   ]
  },
  {
   "cell_type": "markdown",
   "metadata": {},
   "source": [
    "After adding the bi-gram stop words, scores are generally about the same."
   ]
  }
 ],
 "metadata": {
  "kernelspec": {
   "display_name": "Python 3",
   "language": "python",
   "name": "python3"
  },
  "language_info": {
   "codemirror_mode": {
    "name": "ipython",
    "version": 3
   },
   "file_extension": ".py",
   "mimetype": "text/x-python",
   "name": "python",
   "nbconvert_exporter": "python",
   "pygments_lexer": "ipython3",
   "version": "3.7.3"
  }
 },
 "nbformat": 4,
 "nbformat_minor": 2
}

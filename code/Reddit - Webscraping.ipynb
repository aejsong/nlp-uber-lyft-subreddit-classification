{
 "cells": [
  {
   "cell_type": "markdown",
   "metadata": {},
   "source": [
    "## Contents\n",
    "- [Imports](#Imports)\n",
    "    - [Crediential Imports](#Credential-Imports)\n",
    "- [Subreddit Submissions](#Subreddit-Submissions)\n",
    "- [Functions](#Functions)\n",
    "- [Uber Scraping](#Uber-Scraping)\n",
    "- [Lyft Scraping](#Lyft-Scraping)"
   ]
  },
  {
   "cell_type": "markdown",
   "metadata": {},
   "source": [
    "### Imports"
   ]
  },
  {
   "cell_type": "code",
   "execution_count": 1,
   "metadata": {},
   "outputs": [],
   "source": [
    "import pandas as pd\n",
    "import requests, json, time, datetime\n",
    "import praw\n",
    "import datetime\n",
    "\n",
    "from praw.models import MoreComments"
   ]
  },
  {
   "cell_type": "markdown",
   "metadata": {},
   "source": [
    "### Credential Imports"
   ]
  },
  {
   "cell_type": "code",
   "execution_count": 2,
   "metadata": {},
   "outputs": [],
   "source": [
    "%ls ~/Documents/API_keys/"
   ]
  },
  {
   "cell_type": "code",
   "execution_count": 3,
   "metadata": {},
   "outputs": [
    {
     "data": {
      "text/plain": [
       "'/Users/Work/Documents/github/ga/projects/project_3'"
      ]
     },
     "execution_count": 3,
     "metadata": {},
     "output_type": "execute_result"
    }
   ],
   "source": [
    "pwd"
   ]
  },
  {
   "cell_type": "code",
   "execution_count": 4,
   "metadata": {},
   "outputs": [],
   "source": [
    "creds_file = open('./reddit_creds.json', 'r')\n",
    "\n",
    "reddit_creds = json.loads(creds_file.read())"
   ]
  },
  {
   "cell_type": "code",
   "execution_count": 5,
   "metadata": {},
   "outputs": [
    {
     "data": {
      "text/plain": [
       "False"
      ]
     },
     "execution_count": 5,
     "metadata": {},
     "output_type": "execute_result"
    }
   ],
   "source": [
    "reddit = praw.Reddit(\n",
    "    client_id = reddit_creds['id'],\n",
    "    client_secret = reddit_creds['secret'],\n",
    "    username = reddit_creds['user'],\n",
    "    password = reddit_creds['pass'],\n",
    "    user_agent = 'aerika'\n",
    ")\n",
    "\n",
    "reddit.read_only"
   ]
  },
  {
   "cell_type": "code",
   "execution_count": 6,
   "metadata": {},
   "outputs": [],
   "source": [
    "uber = reddit.subreddit('uber')\n",
    "lyft = reddit.subreddit('Lyft')"
   ]
  },
  {
   "cell_type": "markdown",
   "metadata": {},
   "source": [
    "### Subreddit Submissions"
   ]
  },
  {
   "cell_type": "code",
   "execution_count": 7,
   "metadata": {},
   "outputs": [],
   "source": [
    "uber_top_news = [i for i in uber.new(limit = 1500)]\n",
    "lyft_top_news = [i for i in lyft.new(limit = 1500)]"
   ]
  },
  {
   "cell_type": "code",
   "execution_count": 8,
   "metadata": {},
   "outputs": [
    {
     "data": {
      "text/plain": [
       "992"
      ]
     },
     "execution_count": 8,
     "metadata": {},
     "output_type": "execute_result"
    }
   ],
   "source": [
    "len(uber_top_news)"
   ]
  },
  {
   "cell_type": "code",
   "execution_count": 9,
   "metadata": {},
   "outputs": [
    {
     "data": {
      "text/plain": [
       "995"
      ]
     },
     "execution_count": 9,
     "metadata": {},
     "output_type": "execute_result"
    }
   ],
   "source": [
    "len(lyft_top_news)"
   ]
  },
  {
   "cell_type": "markdown",
   "metadata": {},
   "source": [
    "### Functions"
   ]
  },
  {
   "cell_type": "code",
   "execution_count": 10,
   "metadata": {},
   "outputs": [],
   "source": [
    "# Function to convert UTC to days passed since post\n",
    "\n",
    "def days_since(utc_stamp):\n",
    "    return ((time.time() - utc_stamp) / 60) / 1440"
   ]
  },
  {
   "cell_type": "code",
   "execution_count": 11,
   "metadata": {},
   "outputs": [],
   "source": [
    "# Function to grab submission body text / cross post test / label if post is an image\n",
    "\n",
    "def body_txt(post):\n",
    "    if post.selftext == '':\n",
    "        try:\n",
    "            submission_id = post.url.split(sep = '/')[-3]\n",
    "            return praw.models.Submission(reddit, id = submission_id).selftext\n",
    "        except:\n",
    "            return('Image')\n",
    "        \n",
    "    else:\n",
    "        return post.selftext"
   ]
  },
  {
   "cell_type": "code",
   "execution_count": 12,
   "metadata": {},
   "outputs": [],
   "source": [
    "# function grabs all comments in a submitted reddit post\n",
    "# input is submission_id but it is 'post'\n",
    "# https://praw.readthedocs.io/en/latest/tutorials/comments.html\n",
    "# Daniel Kim helped me create this\n",
    "\n",
    "def comment_grabber(post):\n",
    "    \n",
    "    # if there are NO comments in the submission\n",
    "    if len(post.comments) == 0:\n",
    "        \n",
    "        # check whether the post is a cross post\n",
    "        try:\n",
    "                # Grab the crosspost submission ID\n",
    "                crosspost_id = post.url.split(sep = '/')[-3]\n",
    "                crosspost_stored_comments = praw.models.Submission(reddit, id = crosspost_id).comments\n",
    "\n",
    "                list_comments = []\n",
    "\n",
    "                for comment in crosspost_stored_comments:\n",
    "                    if isinstance(comment, MoreComments):\n",
    "                        continue\n",
    "                    list_comments.append(comment.body)\n",
    "                    \n",
    "                return list_comments\n",
    "            \n",
    "        # if there are no comments in the crosspost, return \"no comments\"\n",
    "        except:\n",
    "            return [\"No Comments\"]\n",
    "    \n",
    "    \n",
    "    else:\n",
    "        return [comment.body for comment in post.comments]"
   ]
  },
  {
   "cell_type": "code",
   "execution_count": 13,
   "metadata": {},
   "outputs": [],
   "source": [
    "# Function returns dataframe with basic meta data\n",
    "\n",
    "def meta_data(threads):\n",
    "    \n",
    "    titles = [post.title for post in threads]\n",
    "    \n",
    "    num_comments = [post.num_comments for post in threads]\n",
    "    \n",
    "    time_col = [days_since(post.created_utc) for post in threads]\n",
    "    \n",
    "    subreddit = [post.subreddit for post in threads]\n",
    "    \n",
    "    body = [body_txt(post) for post in threads]\n",
    "    \n",
    "\n",
    "    threads_dict = {\n",
    "        'title': titles,\n",
    "        'num_comments': num_comments,\n",
    "        'elapsed_time': time_col,\n",
    "        'subreddit': subreddit,\n",
    "        'body': body,\n",
    "\n",
    "}\n",
    "    return(pd.DataFrame(threads_dict))"
   ]
  },
  {
   "cell_type": "markdown",
   "metadata": {},
   "source": [
    "### Uber Scraping"
   ]
  },
  {
   "cell_type": "code",
   "execution_count": 14,
   "metadata": {},
   "outputs": [],
   "source": [
    "uber_df = meta_data(uber_top_news)"
   ]
  },
  {
   "cell_type": "code",
   "execution_count": 15,
   "metadata": {},
   "outputs": [],
   "source": [
    "# Using comment_grabber function to get comments\n",
    "\n",
    "all_uber_comments = [comment_grabber(submission_id) for submission_id in uber_top_news]"
   ]
  },
  {
   "cell_type": "code",
   "execution_count": 16,
   "metadata": {},
   "outputs": [],
   "source": [
    "# Adding comment columns to dataframe\n",
    "\n",
    "uber_df['comments'] = all_uber_comments"
   ]
  },
  {
   "cell_type": "code",
   "execution_count": 17,
   "metadata": {},
   "outputs": [],
   "source": [
    "# Turning each comment into one long line of string for future NPL purposes\n",
    "\n",
    "uber_df['comments'] = uber_df['comments'].apply(lambda x: ' '.join(x))"
   ]
  },
  {
   "cell_type": "code",
   "execution_count": 18,
   "metadata": {},
   "outputs": [
    {
     "data": {
      "text/html": [
       "<div>\n",
       "<style scoped>\n",
       "    .dataframe tbody tr th:only-of-type {\n",
       "        vertical-align: middle;\n",
       "    }\n",
       "\n",
       "    .dataframe tbody tr th {\n",
       "        vertical-align: top;\n",
       "    }\n",
       "\n",
       "    .dataframe thead th {\n",
       "        text-align: right;\n",
       "    }\n",
       "</style>\n",
       "<table border=\"1\" class=\"dataframe\">\n",
       "  <thead>\n",
       "    <tr style=\"text-align: right;\">\n",
       "      <th></th>\n",
       "      <th>title</th>\n",
       "      <th>num_comments</th>\n",
       "      <th>elapsed_time</th>\n",
       "      <th>subreddit</th>\n",
       "      <th>body</th>\n",
       "      <th>comments</th>\n",
       "    </tr>\n",
       "  </thead>\n",
       "  <tbody>\n",
       "    <tr>\n",
       "      <td>0</td>\n",
       "      <td>I wonder what all the pax are gonna be complai...</td>\n",
       "      <td>10</td>\n",
       "      <td>0.183559</td>\n",
       "      <td>uber</td>\n",
       "      <td>Pax on reddit: \\n\\njust gave my self driving U...</td>\n",
       "      <td>Can't find me!  \\n\\n\\nCar smells like cigarett...</td>\n",
       "    </tr>\n",
       "    <tr>\n",
       "      <td>1</td>\n",
       "      <td>Error adding a payment method</td>\n",
       "      <td>0</td>\n",
       "      <td>0.337922</td>\n",
       "      <td>uber</td>\n",
       "      <td>I just got a new card as my previous was expir...</td>\n",
       "      <td></td>\n",
       "    </tr>\n",
       "    <tr>\n",
       "      <td>2</td>\n",
       "      <td>Cutting back on Uber due to the drivers I rece...</td>\n",
       "      <td>12</td>\n",
       "      <td>0.378420</td>\n",
       "      <td>uber</td>\n",
       "      <td>The amount of unprofessionalism I have ran int...</td>\n",
       "      <td>If you give 3 or less you'll never get them ag...</td>\n",
       "    </tr>\n",
       "    <tr>\n",
       "      <td>3</td>\n",
       "      <td>Rating doesn't increase at all.</td>\n",
       "      <td>2</td>\n",
       "      <td>0.493524</td>\n",
       "      <td>uber</td>\n",
       "      <td>Hey so I was wondering why isn't my rating inc...</td>\n",
       "      <td>Average of 500 rides last 3 months.</td>\n",
       "    </tr>\n",
       "    <tr>\n",
       "      <td>4</td>\n",
       "      <td>Uber scammed me, AGAIN, out of another cancel ...</td>\n",
       "      <td>1</td>\n",
       "      <td>0.561140</td>\n",
       "      <td>uber</td>\n",
       "      <td>Pax didn’t show up. I waited the full amount o...</td>\n",
       "      <td>Downvoted? Unbelievable.</td>\n",
       "    </tr>\n",
       "  </tbody>\n",
       "</table>\n",
       "</div>"
      ],
      "text/plain": [
       "                                               title  num_comments  \\\n",
       "0  I wonder what all the pax are gonna be complai...            10   \n",
       "1                      Error adding a payment method             0   \n",
       "2  Cutting back on Uber due to the drivers I rece...            12   \n",
       "3                    Rating doesn't increase at all.             2   \n",
       "4  Uber scammed me, AGAIN, out of another cancel ...             1   \n",
       "\n",
       "   elapsed_time subreddit                                               body  \\\n",
       "0      0.183559      uber  Pax on reddit: \\n\\njust gave my self driving U...   \n",
       "1      0.337922      uber  I just got a new card as my previous was expir...   \n",
       "2      0.378420      uber  The amount of unprofessionalism I have ran int...   \n",
       "3      0.493524      uber  Hey so I was wondering why isn't my rating inc...   \n",
       "4      0.561140      uber  Pax didn’t show up. I waited the full amount o...   \n",
       "\n",
       "                                            comments  \n",
       "0  Can't find me!  \\n\\n\\nCar smells like cigarett...  \n",
       "1                                                     \n",
       "2  If you give 3 or less you'll never get them ag...  \n",
       "3                Average of 500 rides last 3 months.  \n",
       "4                           Downvoted? Unbelievable.  "
      ]
     },
     "execution_count": 18,
     "metadata": {},
     "output_type": "execute_result"
    }
   ],
   "source": [
    "uber_df.head()"
   ]
  },
  {
   "cell_type": "code",
   "execution_count": 19,
   "metadata": {},
   "outputs": [
    {
     "data": {
      "text/plain": [
       "'./data_csv/uber2019-10-13_14_44.csv'"
      ]
     },
     "execution_count": 19,
     "metadata": {},
     "output_type": "execute_result"
    }
   ],
   "source": [
    "# https://www.saltycrane.com/blog/2008/06/how-to-get-current-date-and-time-in/\n",
    "# Saving file path with filename with current date\n",
    "    \n",
    "now = datetime.datetime.now()\n",
    "now.strftime(\"%Y-%m-%d_%H_%M\")\n",
    "\n",
    "uber_path = \"./data_csv/\" + \"uber\" + now.strftime(\"%Y-%m-%d_%H_%M\") + \".csv\"\n",
    "uber_path"
   ]
  },
  {
   "cell_type": "code",
   "execution_count": 20,
   "metadata": {},
   "outputs": [],
   "source": [
    "uber_df.to_csv(uber_path,index=False)"
   ]
  },
  {
   "cell_type": "markdown",
   "metadata": {},
   "source": [
    "### Lyft Scraping"
   ]
  },
  {
   "cell_type": "code",
   "execution_count": 21,
   "metadata": {},
   "outputs": [],
   "source": [
    "lyft_df = meta_data(lyft_top_news)"
   ]
  },
  {
   "cell_type": "code",
   "execution_count": 22,
   "metadata": {},
   "outputs": [],
   "source": [
    "# Using comment_grabber function to get comments\n",
    "\n",
    "all_lyft_comments = [comment_grabber(submission_id) for submission_id in lyft_top_news]"
   ]
  },
  {
   "cell_type": "code",
   "execution_count": 23,
   "metadata": {},
   "outputs": [],
   "source": [
    "# # Adding comment columns to dataframe\n",
    "\n",
    "lyft_df['comments'] = all_lyft_comments"
   ]
  },
  {
   "cell_type": "code",
   "execution_count": 24,
   "metadata": {},
   "outputs": [],
   "source": [
    "# Turning each comment into one long line of string for future NPL purposes\n",
    "\n",
    "lyft_df['comments'] = lyft_df['comments'].apply(lambda x: ' '.join(x))se"
   ]
  },
  {
   "cell_type": "code",
   "execution_count": 25,
   "metadata": {},
   "outputs": [
    {
     "data": {
      "text/html": [
       "<div>\n",
       "<style scoped>\n",
       "    .dataframe tbody tr th:only-of-type {\n",
       "        vertical-align: middle;\n",
       "    }\n",
       "\n",
       "    .dataframe tbody tr th {\n",
       "        vertical-align: top;\n",
       "    }\n",
       "\n",
       "    .dataframe thead th {\n",
       "        text-align: right;\n",
       "    }\n",
       "</style>\n",
       "<table border=\"1\" class=\"dataframe\">\n",
       "  <thead>\n",
       "    <tr style=\"text-align: right;\">\n",
       "      <th></th>\n",
       "      <th>title</th>\n",
       "      <th>num_comments</th>\n",
       "      <th>elapsed_time</th>\n",
       "      <th>subreddit</th>\n",
       "      <th>body</th>\n",
       "      <th>comments</th>\n",
       "    </tr>\n",
       "  </thead>\n",
       "  <tbody>\n",
       "    <tr>\n",
       "      <td>0</td>\n",
       "      <td>Happen often?</td>\n",
       "      <td>12</td>\n",
       "      <td>0.188484</td>\n",
       "      <td>Lyft</td>\n",
       "      <td>To all the drivers, from a rider, thank you! N...</td>\n",
       "      <td>Yeah even if the driver is online, if someone ...</td>\n",
       "    </tr>\n",
       "    <tr>\n",
       "      <td>1</td>\n",
       "      <td>Lyft driver app thinks I'm in Chicago when I'm...</td>\n",
       "      <td>4</td>\n",
       "      <td>0.720834</td>\n",
       "      <td>Lyft</td>\n",
       "      <td>Image</td>\n",
       "      <td>This always happens to me when im  doing my si...</td>\n",
       "    </tr>\n",
       "    <tr>\n",
       "      <td>2</td>\n",
       "      <td>I'm pissed...</td>\n",
       "      <td>8</td>\n",
       "      <td>0.737269</td>\n",
       "      <td>Lyft</td>\n",
       "      <td>Wth is going on? Am I bugged or what? Ive been...</td>\n",
       "      <td>This is purely a demand region, it does not ta...</td>\n",
       "    </tr>\n",
       "    <tr>\n",
       "      <td>3</td>\n",
       "      <td>Where is the earnings breakdown??? Why cant we...</td>\n",
       "      <td>5</td>\n",
       "      <td>0.964086</td>\n",
       "      <td>Lyft</td>\n",
       "      <td>Image</td>\n",
       "      <td>Because the new peons they are bringing on thr...</td>\n",
       "    </tr>\n",
       "    <tr>\n",
       "      <td>4</td>\n",
       "      <td>Where is the earnings breakdown??? Why cant we...</td>\n",
       "      <td>1</td>\n",
       "      <td>0.976725</td>\n",
       "      <td>Lyft</td>\n",
       "      <td>Image</td>\n",
       "      <td>There isn't any. U get paid for the mileage an...</td>\n",
       "    </tr>\n",
       "  </tbody>\n",
       "</table>\n",
       "</div>"
      ],
      "text/plain": [
       "                                               title  num_comments  \\\n",
       "0                                      Happen often?            12   \n",
       "1  Lyft driver app thinks I'm in Chicago when I'm...             4   \n",
       "2                                      I'm pissed...             8   \n",
       "3  Where is the earnings breakdown??? Why cant we...             5   \n",
       "4  Where is the earnings breakdown??? Why cant we...             1   \n",
       "\n",
       "   elapsed_time subreddit                                               body  \\\n",
       "0      0.188484      Lyft  To all the drivers, from a rider, thank you! N...   \n",
       "1      0.720834      Lyft                                              Image   \n",
       "2      0.737269      Lyft  Wth is going on? Am I bugged or what? Ive been...   \n",
       "3      0.964086      Lyft                                              Image   \n",
       "4      0.976725      Lyft                                              Image   \n",
       "\n",
       "                                            comments  \n",
       "0  Yeah even if the driver is online, if someone ...  \n",
       "1  This always happens to me when im  doing my si...  \n",
       "2  This is purely a demand region, it does not ta...  \n",
       "3  Because the new peons they are bringing on thr...  \n",
       "4  There isn't any. U get paid for the mileage an...  "
      ]
     },
     "execution_count": 25,
     "metadata": {},
     "output_type": "execute_result"
    }
   ],
   "source": [
    "lyft_df.head()"
   ]
  },
  {
   "cell_type": "code",
   "execution_count": 26,
   "metadata": {},
   "outputs": [
    {
     "data": {
      "text/plain": [
       "'./data_csv/lyft2019-10-13_14_44.csv'"
      ]
     },
     "execution_count": 26,
     "metadata": {},
     "output_type": "execute_result"
    }
   ],
   "source": [
    "lyft_path = \"./data_csv/\" + \"lyft\" + now.strftime(\"%Y-%m-%d_%H_%M\") + \".csv\"\n",
    "lyft_path"
   ]
  },
  {
   "cell_type": "code",
   "execution_count": 27,
   "metadata": {},
   "outputs": [],
   "source": [
    "lyft_df.to_csv(lyft_path,index=False)"
   ]
  },
  {
   "cell_type": "code",
   "execution_count": null,
   "metadata": {},
   "outputs": [],
   "source": []
  },
  {
   "cell_type": "code",
   "execution_count": 28,
   "metadata": {},
   "outputs": [
    {
     "data": {
      "text/plain": [
       "'2019-10-13_14:44'"
      ]
     },
     "execution_count": 28,
     "metadata": {},
     "output_type": "execute_result"
    }
   ],
   "source": [
    "now.strftime(\"%Y-%m-%d_%H:%M\")"
   ]
  },
  {
   "cell_type": "code",
   "execution_count": null,
   "metadata": {},
   "outputs": [],
   "source": []
  }
 ],
 "metadata": {
  "kernelspec": {
   "display_name": "Python 3",
   "language": "python",
   "name": "python3"
  },
  "language_info": {
   "codemirror_mode": {
    "name": "ipython",
    "version": 3
   },
   "file_extension": ".py",
   "mimetype": "text/x-python",
   "name": "python",
   "nbconvert_exporter": "python",
   "pygments_lexer": "ipython3",
   "version": "3.7.3"
  }
 },
 "nbformat": 4,
 "nbformat_minor": 2
}
